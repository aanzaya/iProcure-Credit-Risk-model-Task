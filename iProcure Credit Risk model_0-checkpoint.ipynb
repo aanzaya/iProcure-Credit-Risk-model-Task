{
 "cells": [
  {
   "cell_type": "markdown",
   "id": "c32fff33",
   "metadata": {},
   "source": [
    "# iProcure Credit Risk model"
   ]
  },
  {
   "cell_type": "markdown",
   "id": "31f71d05",
   "metadata": {},
   "source": [
    "# Probability of Default (PD) Model \n",
    "\n",
    "The PD Model will be a logistic regression model\n",
    "\n",
    "\n",
    "We define that a borrower has defaulted if the paid amount is less than the amount issued\n",
    "\n",
    "\n",
    "It is established that all independent variables in a PD model have to be Dummy variables\n",
    "\n",
    "\n",
    "For Continuous variables in order to include them as independent varible in a PD model, you turn them into categories of the dummy variable\n",
    "\n",
    "Expected Loss = PD x LGD x ED\n",
    "\n",
    "PD = Probability of Default\n",
    "\n",
    "LGD = Loss Given Default\n",
    "\n",
    "EAD = Exposure at Default\n",
    "\n"
   ]
  },
  {
   "cell_type": "markdown",
   "id": "e26404ec",
   "metadata": {},
   "source": [
    "\n",
    "\n",
    "### Task\n",
    "\n",
    "Given historical data on loans given out with information on whether or not the borrower defaulted (charge-off), we will build a model thatcan predict whether or not a borrower will pay back their loan. This way in the future when we get a new potential customer we can assess whether or not they are likely to pay back the loan. We'll keep in mind classification metrics when evaluating the performance of your model!\n"
   ]
  },
  {
   "cell_type": "markdown",
   "id": "8242a573",
   "metadata": {},
   "source": [
    "\n",
    "### Data Overview"
   ]
  },
  {
   "cell_type": "markdown",
   "id": "5f5d3291",
   "metadata": {},
   "source": [
    "<table border=\"1\" class=\"dataframe\">\n",
    "  <thead>\n",
    "    <tr style=\"text-align: right;\">\n",
    "      <th></th>\n",
    "      <th>Heading</th>\n",
    "      <th>Description</th>\n",
    "    </tr>\n",
    "  </thead>\n",
    "  <tbody>\n",
    "    <tr>\n",
    "      <th>0</th>\n",
    "      <td>customer auto id</td>\n",
    "      <td>The system generated ID for the borrower once they apply for the loan</td>\n",
    "    </tr>\n",
    "    <tr>\n",
    "      <th>1</th>\n",
    "      <td>customer seasonality (frequency of purchase)</td>\n",
    "      <td>The frequesncy of the borrower in purchasing the loan .</td>\n",
    "    </tr>\n",
    "    <tr>\n",
    "      <th>2</th>\n",
    "      <td>amount requested</td>\n",
    "      <td>The listed amount of the loan applied for by the borrower.</td>\n",
    "    </tr>\n",
    "    <tr>\n",
    "      <th>3</th>\n",
    "      <td>amount issued</td>\n",
    "      <td>The listed amount of the loan issued to the borrower. If at some point in time, the credit department reduces the loan amount, then it will be reflected in this value.</td>\n",
    "    </tr>\n",
    "    <tr>\n",
    "      <th>4</th>\n",
    "      <td>unique sale id</td>\n",
    "      <td>The system generated ID for the loan</td>\n",
    "    </tr>\n",
    "    <tr>\n",
    "      <th>5</th>\n",
    "      <td>paid amount</td>\n",
    "      <td>Amount of the loan paid off</td>\n",
    "    </tr>\n",
    "    <tr>\n",
    "      <th>6</th>\n",
    "      <td>repayment days</td>\n",
    "      <td>The number of days it took to pay off the loan.</td>\n",
    "    </tr>\n",
    "    <tr>\n",
    "      <th>7</th>\n",
    "      <td>good_bad_flag</td>\n",
    "      <td>Binary prediction of the loan outcome.</td>\n",
    "    </tr>\n",
    "    <tr>\n",
    "      <th>8</th>\n",
    "      <td>loan_status</td>\n",
    "      <td>Current status of the loan</td>\n",
    "    </tr>\n",
    "      </tbody>\n",
    "</table>\n"
   ]
  },
  {
   "cell_type": "markdown",
   "id": "83b86bf8",
   "metadata": {},
   "source": [
    "## Importing libraries"
   ]
  },
  {
   "cell_type": "code",
   "execution_count": 611,
   "id": "25834e28",
   "metadata": {},
   "outputs": [],
   "source": [
    "#Import the required libraries\n",
    "import pandas as pd\n",
    "import numpy as np\n",
    "import seaborn as sns\n",
    "import matplotlib.pyplot as plt\n",
    "from sklearn.model_selection import train_test_split, RepeatedStratifiedKFold, cross_val_score\n",
    "from sklearn.linear_model import LogisticRegression\n",
    "from sklearn.metrics import roc_curve, roc_auc_score, confusion_matrix, precision_recall_curve, auc\n",
    "from sklearn.feature_selection import f_classif\n",
    "from sklearn.pipeline import Pipeline\n",
    "from sklearn.base import BaseEstimator, TransformerMixin\n",
    "from scipy.stats import chi2_contingency"
   ]
  },
  {
   "cell_type": "code",
   "execution_count": 612,
   "id": "4c54d22d",
   "metadata": {},
   "outputs": [
    {
     "data": {
      "text/html": [
       "<div>\n",
       "<style scoped>\n",
       "    .dataframe tbody tr th:only-of-type {\n",
       "        vertical-align: middle;\n",
       "    }\n",
       "\n",
       "    .dataframe tbody tr th {\n",
       "        vertical-align: top;\n",
       "    }\n",
       "\n",
       "    .dataframe thead th {\n",
       "        text-align: right;\n",
       "    }\n",
       "</style>\n",
       "<table border=\"1\" class=\"dataframe\">\n",
       "  <thead>\n",
       "    <tr style=\"text-align: right;\">\n",
       "      <th></th>\n",
       "      <th>customer auto id</th>\n",
       "      <th>customer seasonality (frequency of purchase)</th>\n",
       "      <th>amount requested</th>\n",
       "      <th>amount issued</th>\n",
       "      <th>unique sale id</th>\n",
       "      <th>paid amount</th>\n",
       "      <th>repayment days</th>\n",
       "      <th>good_bad_flag</th>\n",
       "      <th>status</th>\n",
       "    </tr>\n",
       "  </thead>\n",
       "  <tbody>\n",
       "    <tr>\n",
       "      <th>0</th>\n",
       "      <td>2198742.0</td>\n",
       "      <td>Weekly</td>\n",
       "      <td>38550.0</td>\n",
       "      <td>38550.0</td>\n",
       "      <td>3322459</td>\n",
       "      <td>38550.0</td>\n",
       "      <td>7</td>\n",
       "      <td>Good</td>\n",
       "      <td>Good</td>\n",
       "    </tr>\n",
       "    <tr>\n",
       "      <th>1</th>\n",
       "      <td>3387576.0</td>\n",
       "      <td>Weekly</td>\n",
       "      <td>68900.0</td>\n",
       "      <td>68900.0</td>\n",
       "      <td>3321894</td>\n",
       "      <td>68900.0</td>\n",
       "      <td>6</td>\n",
       "      <td>Good</td>\n",
       "      <td>Good</td>\n",
       "    </tr>\n",
       "    <tr>\n",
       "      <th>2</th>\n",
       "      <td>3081652.0</td>\n",
       "      <td>Daily</td>\n",
       "      <td>21800.0</td>\n",
       "      <td>21800.0</td>\n",
       "      <td>3321852</td>\n",
       "      <td>21800.0</td>\n",
       "      <td>6</td>\n",
       "      <td>Good</td>\n",
       "      <td>Good</td>\n",
       "    </tr>\n",
       "    <tr>\n",
       "      <th>3</th>\n",
       "      <td>2198724.0</td>\n",
       "      <td>Daily</td>\n",
       "      <td>50000.0</td>\n",
       "      <td>50000.0</td>\n",
       "      <td>3321845</td>\n",
       "      <td>50000.0</td>\n",
       "      <td>6</td>\n",
       "      <td>Good</td>\n",
       "      <td>Good</td>\n",
       "    </tr>\n",
       "    <tr>\n",
       "      <th>4</th>\n",
       "      <td>2182883.0</td>\n",
       "      <td>Daily</td>\n",
       "      <td>19480.0</td>\n",
       "      <td>19480.0</td>\n",
       "      <td>3321799</td>\n",
       "      <td>19480.0</td>\n",
       "      <td>4</td>\n",
       "      <td>Good</td>\n",
       "      <td>Good</td>\n",
       "    </tr>\n",
       "  </tbody>\n",
       "</table>\n",
       "</div>"
      ],
      "text/plain": [
       "   customer auto id customer seasonality (frequency of purchase)  \\\n",
       "0         2198742.0                                       Weekly   \n",
       "1         3387576.0                                       Weekly   \n",
       "2         3081652.0                                        Daily   \n",
       "3         2198724.0                                        Daily   \n",
       "4         2182883.0                                        Daily   \n",
       "\n",
       "   amount requested  amount issued unique sale id  paid amount repayment days  \\\n",
       "0           38550.0        38550.0        3322459      38550.0              7   \n",
       "1           68900.0        68900.0        3321894      68900.0              6   \n",
       "2           21800.0        21800.0        3321852      21800.0              6   \n",
       "3           50000.0        50000.0        3321845      50000.0              6   \n",
       "4           19480.0        19480.0        3321799      19480.0              4   \n",
       "\n",
       "  good_bad_flag status  \n",
       "0          Good   Good  \n",
       "1          Good   Good  \n",
       "2          Good   Good  \n",
       "3          Good   Good  \n",
       "4          Good   Good  "
      ]
     },
     "execution_count": 612,
     "metadata": {},
     "output_type": "execute_result"
    }
   ],
   "source": [
    "#import data\n",
    "df = pd.read_csv('G:ML_challenge_dataset.csv')\n",
    "df.head()"
   ]
  },
  {
   "cell_type": "code",
   "execution_count": 613,
   "id": "3a3a1485",
   "metadata": {},
   "outputs": [],
   "source": [
    "#Creating a backup\n",
    "df = df.copy()"
   ]
  },
  {
   "cell_type": "code",
   "execution_count": 614,
   "id": "443f5f8c",
   "metadata": {},
   "outputs": [
    {
     "data": {
      "text/html": [
       "<div>\n",
       "<style scoped>\n",
       "    .dataframe tbody tr th:only-of-type {\n",
       "        vertical-align: middle;\n",
       "    }\n",
       "\n",
       "    .dataframe tbody tr th {\n",
       "        vertical-align: top;\n",
       "    }\n",
       "\n",
       "    .dataframe thead th {\n",
       "        text-align: right;\n",
       "    }\n",
       "</style>\n",
       "<table border=\"1\" class=\"dataframe\">\n",
       "  <thead>\n",
       "    <tr style=\"text-align: right;\">\n",
       "      <th></th>\n",
       "      <th>customer auto id</th>\n",
       "      <th>customer seasonality (frequency of purchase)</th>\n",
       "      <th>amount requested</th>\n",
       "      <th>amount issued</th>\n",
       "      <th>unique sale id</th>\n",
       "      <th>paid amount</th>\n",
       "      <th>repayment days</th>\n",
       "      <th>good_bad_flag</th>\n",
       "      <th>status</th>\n",
       "    </tr>\n",
       "  </thead>\n",
       "  <tbody>\n",
       "    <tr>\n",
       "      <th>0</th>\n",
       "      <td>2198742.0</td>\n",
       "      <td>Weekly</td>\n",
       "      <td>38550.0</td>\n",
       "      <td>38550.0</td>\n",
       "      <td>3322459</td>\n",
       "      <td>38550.0</td>\n",
       "      <td>7</td>\n",
       "      <td>Good</td>\n",
       "      <td>Good</td>\n",
       "    </tr>\n",
       "    <tr>\n",
       "      <th>1</th>\n",
       "      <td>3387576.0</td>\n",
       "      <td>Weekly</td>\n",
       "      <td>68900.0</td>\n",
       "      <td>68900.0</td>\n",
       "      <td>3321894</td>\n",
       "      <td>68900.0</td>\n",
       "      <td>6</td>\n",
       "      <td>Good</td>\n",
       "      <td>Good</td>\n",
       "    </tr>\n",
       "    <tr>\n",
       "      <th>2</th>\n",
       "      <td>3081652.0</td>\n",
       "      <td>Daily</td>\n",
       "      <td>21800.0</td>\n",
       "      <td>21800.0</td>\n",
       "      <td>3321852</td>\n",
       "      <td>21800.0</td>\n",
       "      <td>6</td>\n",
       "      <td>Good</td>\n",
       "      <td>Good</td>\n",
       "    </tr>\n",
       "    <tr>\n",
       "      <th>3</th>\n",
       "      <td>2198724.0</td>\n",
       "      <td>Daily</td>\n",
       "      <td>50000.0</td>\n",
       "      <td>50000.0</td>\n",
       "      <td>3321845</td>\n",
       "      <td>50000.0</td>\n",
       "      <td>6</td>\n",
       "      <td>Good</td>\n",
       "      <td>Good</td>\n",
       "    </tr>\n",
       "    <tr>\n",
       "      <th>4</th>\n",
       "      <td>2182883.0</td>\n",
       "      <td>Daily</td>\n",
       "      <td>19480.0</td>\n",
       "      <td>19480.0</td>\n",
       "      <td>3321799</td>\n",
       "      <td>19480.0</td>\n",
       "      <td>4</td>\n",
       "      <td>Good</td>\n",
       "      <td>Good</td>\n",
       "    </tr>\n",
       "  </tbody>\n",
       "</table>\n",
       "</div>"
      ],
      "text/plain": [
       "   customer auto id customer seasonality (frequency of purchase)  \\\n",
       "0         2198742.0                                       Weekly   \n",
       "1         3387576.0                                       Weekly   \n",
       "2         3081652.0                                        Daily   \n",
       "3         2198724.0                                        Daily   \n",
       "4         2182883.0                                        Daily   \n",
       "\n",
       "   amount requested  amount issued unique sale id  paid amount repayment days  \\\n",
       "0           38550.0        38550.0        3322459      38550.0              7   \n",
       "1           68900.0        68900.0        3321894      68900.0              6   \n",
       "2           21800.0        21800.0        3321852      21800.0              6   \n",
       "3           50000.0        50000.0        3321845      50000.0              6   \n",
       "4           19480.0        19480.0        3321799      19480.0              4   \n",
       "\n",
       "  good_bad_flag status  \n",
       "0          Good   Good  \n",
       "1          Good   Good  \n",
       "2          Good   Good  \n",
       "3          Good   Good  \n",
       "4          Good   Good  "
      ]
     },
     "execution_count": 614,
     "metadata": {},
     "output_type": "execute_result"
    }
   ],
   "source": [
    "df.head()"
   ]
  },
  {
   "cell_type": "markdown",
   "id": "420b5677",
   "metadata": {},
   "source": [
    "# Data Cleaning"
   ]
  },
  {
   "cell_type": "code",
   "execution_count": 615,
   "id": "678eabbc",
   "metadata": {},
   "outputs": [],
   "source": [
    "# drop columns with more than 80% null value+\n",
    "df.dropna(thresh = df.shape[0]*0.2, how = 'all', axis = 1, inplace = True)"
   ]
  },
  {
   "cell_type": "code",
   "execution_count": 616,
   "id": "7b743505",
   "metadata": {},
   "outputs": [],
   "source": [
    "df['repayment days'] = df['repayment days']. replace(['#REF!'], [0])"
   ]
  },
  {
   "cell_type": "code",
   "execution_count": 617,
   "id": "ce8fd8a0",
   "metadata": {},
   "outputs": [
    {
     "data": {
      "text/html": [
       "<div>\n",
       "<style scoped>\n",
       "    .dataframe tbody tr th:only-of-type {\n",
       "        vertical-align: middle;\n",
       "    }\n",
       "\n",
       "    .dataframe tbody tr th {\n",
       "        vertical-align: top;\n",
       "    }\n",
       "\n",
       "    .dataframe thead th {\n",
       "        text-align: right;\n",
       "    }\n",
       "</style>\n",
       "<table border=\"1\" class=\"dataframe\">\n",
       "  <thead>\n",
       "    <tr style=\"text-align: right;\">\n",
       "      <th></th>\n",
       "      <th>customer auto id</th>\n",
       "      <th>customer seasonality (frequency of purchase)</th>\n",
       "      <th>amount requested</th>\n",
       "      <th>amount issued</th>\n",
       "      <th>unique sale id</th>\n",
       "      <th>paid amount</th>\n",
       "      <th>repayment days</th>\n",
       "      <th>good_bad_flag</th>\n",
       "      <th>status</th>\n",
       "    </tr>\n",
       "  </thead>\n",
       "  <tbody>\n",
       "    <tr>\n",
       "      <th>0</th>\n",
       "      <td>2198742.0</td>\n",
       "      <td>Weekly</td>\n",
       "      <td>38550.0</td>\n",
       "      <td>38550.0</td>\n",
       "      <td>3322459</td>\n",
       "      <td>38550.0</td>\n",
       "      <td>7</td>\n",
       "      <td>Good</td>\n",
       "      <td>Good</td>\n",
       "    </tr>\n",
       "    <tr>\n",
       "      <th>1</th>\n",
       "      <td>3387576.0</td>\n",
       "      <td>Weekly</td>\n",
       "      <td>68900.0</td>\n",
       "      <td>68900.0</td>\n",
       "      <td>3321894</td>\n",
       "      <td>68900.0</td>\n",
       "      <td>6</td>\n",
       "      <td>Good</td>\n",
       "      <td>Good</td>\n",
       "    </tr>\n",
       "    <tr>\n",
       "      <th>2</th>\n",
       "      <td>3081652.0</td>\n",
       "      <td>Daily</td>\n",
       "      <td>21800.0</td>\n",
       "      <td>21800.0</td>\n",
       "      <td>3321852</td>\n",
       "      <td>21800.0</td>\n",
       "      <td>6</td>\n",
       "      <td>Good</td>\n",
       "      <td>Good</td>\n",
       "    </tr>\n",
       "    <tr>\n",
       "      <th>3</th>\n",
       "      <td>2198724.0</td>\n",
       "      <td>Daily</td>\n",
       "      <td>50000.0</td>\n",
       "      <td>50000.0</td>\n",
       "      <td>3321845</td>\n",
       "      <td>50000.0</td>\n",
       "      <td>6</td>\n",
       "      <td>Good</td>\n",
       "      <td>Good</td>\n",
       "    </tr>\n",
       "    <tr>\n",
       "      <th>4</th>\n",
       "      <td>2182883.0</td>\n",
       "      <td>Daily</td>\n",
       "      <td>19480.0</td>\n",
       "      <td>19480.0</td>\n",
       "      <td>3321799</td>\n",
       "      <td>19480.0</td>\n",
       "      <td>4</td>\n",
       "      <td>Good</td>\n",
       "      <td>Good</td>\n",
       "    </tr>\n",
       "    <tr>\n",
       "      <th>...</th>\n",
       "      <td>...</td>\n",
       "      <td>...</td>\n",
       "      <td>...</td>\n",
       "      <td>...</td>\n",
       "      <td>...</td>\n",
       "      <td>...</td>\n",
       "      <td>...</td>\n",
       "      <td>...</td>\n",
       "      <td>...</td>\n",
       "    </tr>\n",
       "    <tr>\n",
       "      <th>3365</th>\n",
       "      <td>3381060.0</td>\n",
       "      <td>Weekly</td>\n",
       "      <td>22660.0</td>\n",
       "      <td>NaN</td>\n",
       "      <td>NaN</td>\n",
       "      <td>NaN</td>\n",
       "      <td>0</td>\n",
       "      <td>Good</td>\n",
       "      <td>Good</td>\n",
       "    </tr>\n",
       "    <tr>\n",
       "      <th>3366</th>\n",
       "      <td>3388552.0</td>\n",
       "      <td>Weekly</td>\n",
       "      <td>4165.0</td>\n",
       "      <td>NaN</td>\n",
       "      <td>NaN</td>\n",
       "      <td>NaN</td>\n",
       "      <td>0</td>\n",
       "      <td>Good</td>\n",
       "      <td>Good</td>\n",
       "    </tr>\n",
       "    <tr>\n",
       "      <th>3367</th>\n",
       "      <td>3317853.0</td>\n",
       "      <td>Daily</td>\n",
       "      <td>24000.0</td>\n",
       "      <td>NaN</td>\n",
       "      <td>NaN</td>\n",
       "      <td>NaN</td>\n",
       "      <td>0</td>\n",
       "      <td>Good</td>\n",
       "      <td>Good</td>\n",
       "    </tr>\n",
       "    <tr>\n",
       "      <th>3368</th>\n",
       "      <td>2230382.0</td>\n",
       "      <td>Weekly</td>\n",
       "      <td>2850.0</td>\n",
       "      <td>NaN</td>\n",
       "      <td>NaN</td>\n",
       "      <td>NaN</td>\n",
       "      <td>0</td>\n",
       "      <td>Good</td>\n",
       "      <td>Good</td>\n",
       "    </tr>\n",
       "    <tr>\n",
       "      <th>3369</th>\n",
       "      <td>3315334.0</td>\n",
       "      <td>Daily</td>\n",
       "      <td>13700.0</td>\n",
       "      <td>NaN</td>\n",
       "      <td>NaN</td>\n",
       "      <td>NaN</td>\n",
       "      <td>0</td>\n",
       "      <td>Good</td>\n",
       "      <td>Good</td>\n",
       "    </tr>\n",
       "  </tbody>\n",
       "</table>\n",
       "<p>3370 rows × 9 columns</p>\n",
       "</div>"
      ],
      "text/plain": [
       "      customer auto id customer seasonality (frequency of purchase)  \\\n",
       "0            2198742.0                                       Weekly   \n",
       "1            3387576.0                                       Weekly   \n",
       "2            3081652.0                                        Daily   \n",
       "3            2198724.0                                        Daily   \n",
       "4            2182883.0                                        Daily   \n",
       "...                ...                                          ...   \n",
       "3365         3381060.0                                       Weekly   \n",
       "3366         3388552.0                                       Weekly   \n",
       "3367         3317853.0                                        Daily   \n",
       "3368         2230382.0                                       Weekly   \n",
       "3369         3315334.0                                        Daily   \n",
       "\n",
       "      amount requested  amount issued unique sale id  paid amount  \\\n",
       "0              38550.0        38550.0        3322459      38550.0   \n",
       "1              68900.0        68900.0        3321894      68900.0   \n",
       "2              21800.0        21800.0        3321852      21800.0   \n",
       "3              50000.0        50000.0        3321845      50000.0   \n",
       "4              19480.0        19480.0        3321799      19480.0   \n",
       "...                ...            ...            ...          ...   \n",
       "3365           22660.0            NaN            NaN          NaN   \n",
       "3366            4165.0            NaN            NaN          NaN   \n",
       "3367           24000.0            NaN            NaN          NaN   \n",
       "3368            2850.0            NaN            NaN          NaN   \n",
       "3369           13700.0            NaN            NaN          NaN   \n",
       "\n",
       "     repayment days good_bad_flag status  \n",
       "0                 7          Good   Good  \n",
       "1                 6          Good   Good  \n",
       "2                 6          Good   Good  \n",
       "3                 6          Good   Good  \n",
       "4                 4          Good   Good  \n",
       "...             ...           ...    ...  \n",
       "3365              0          Good   Good  \n",
       "3366              0          Good   Good  \n",
       "3367              0          Good   Good  \n",
       "3368              0          Good   Good  \n",
       "3369              0          Good   Good  \n",
       "\n",
       "[3370 rows x 9 columns]"
      ]
     },
     "execution_count": 617,
     "metadata": {},
     "output_type": "execute_result"
    }
   ],
   "source": [
    "df = df.replace(' ', np.nan, regex=True)\n",
    "df"
   ]
  },
  {
   "cell_type": "code",
   "execution_count": 618,
   "id": "29b8a80f",
   "metadata": {},
   "outputs": [
    {
     "data": {
      "text/html": [
       "<div>\n",
       "<style scoped>\n",
       "    .dataframe tbody tr th:only-of-type {\n",
       "        vertical-align: middle;\n",
       "    }\n",
       "\n",
       "    .dataframe tbody tr th {\n",
       "        vertical-align: top;\n",
       "    }\n",
       "\n",
       "    .dataframe thead th {\n",
       "        text-align: right;\n",
       "    }\n",
       "</style>\n",
       "<table border=\"1\" class=\"dataframe\">\n",
       "  <thead>\n",
       "    <tr style=\"text-align: right;\">\n",
       "      <th></th>\n",
       "      <th>customer auto id</th>\n",
       "      <th>customer seasonality (frequency of purchase)</th>\n",
       "      <th>amount requested</th>\n",
       "      <th>amount issued</th>\n",
       "      <th>unique sale id</th>\n",
       "      <th>paid amount</th>\n",
       "      <th>repayment days</th>\n",
       "      <th>good_bad_flag</th>\n",
       "      <th>status</th>\n",
       "    </tr>\n",
       "  </thead>\n",
       "  <tbody>\n",
       "    <tr>\n",
       "      <th>0</th>\n",
       "      <td>2198742.0</td>\n",
       "      <td>Weekly</td>\n",
       "      <td>38550.0</td>\n",
       "      <td>38550.0</td>\n",
       "      <td>3322459</td>\n",
       "      <td>38550.0</td>\n",
       "      <td>7</td>\n",
       "      <td>Good</td>\n",
       "      <td>Good</td>\n",
       "    </tr>\n",
       "    <tr>\n",
       "      <th>1</th>\n",
       "      <td>3387576.0</td>\n",
       "      <td>Weekly</td>\n",
       "      <td>68900.0</td>\n",
       "      <td>68900.0</td>\n",
       "      <td>3321894</td>\n",
       "      <td>68900.0</td>\n",
       "      <td>6</td>\n",
       "      <td>Good</td>\n",
       "      <td>Good</td>\n",
       "    </tr>\n",
       "    <tr>\n",
       "      <th>2</th>\n",
       "      <td>3081652.0</td>\n",
       "      <td>Daily</td>\n",
       "      <td>21800.0</td>\n",
       "      <td>21800.0</td>\n",
       "      <td>3321852</td>\n",
       "      <td>21800.0</td>\n",
       "      <td>6</td>\n",
       "      <td>Good</td>\n",
       "      <td>Good</td>\n",
       "    </tr>\n",
       "    <tr>\n",
       "      <th>3</th>\n",
       "      <td>2198724.0</td>\n",
       "      <td>Daily</td>\n",
       "      <td>50000.0</td>\n",
       "      <td>50000.0</td>\n",
       "      <td>3321845</td>\n",
       "      <td>50000.0</td>\n",
       "      <td>6</td>\n",
       "      <td>Good</td>\n",
       "      <td>Good</td>\n",
       "    </tr>\n",
       "    <tr>\n",
       "      <th>4</th>\n",
       "      <td>2182883.0</td>\n",
       "      <td>Daily</td>\n",
       "      <td>19480.0</td>\n",
       "      <td>19480.0</td>\n",
       "      <td>3321799</td>\n",
       "      <td>19480.0</td>\n",
       "      <td>4</td>\n",
       "      <td>Good</td>\n",
       "      <td>Good</td>\n",
       "    </tr>\n",
       "    <tr>\n",
       "      <th>...</th>\n",
       "      <td>...</td>\n",
       "      <td>...</td>\n",
       "      <td>...</td>\n",
       "      <td>...</td>\n",
       "      <td>...</td>\n",
       "      <td>...</td>\n",
       "      <td>...</td>\n",
       "      <td>...</td>\n",
       "      <td>...</td>\n",
       "    </tr>\n",
       "    <tr>\n",
       "      <th>3365</th>\n",
       "      <td>3381060.0</td>\n",
       "      <td>Weekly</td>\n",
       "      <td>22660.0</td>\n",
       "      <td>0.0</td>\n",
       "      <td>0</td>\n",
       "      <td>0.0</td>\n",
       "      <td>0</td>\n",
       "      <td>Good</td>\n",
       "      <td>Good</td>\n",
       "    </tr>\n",
       "    <tr>\n",
       "      <th>3366</th>\n",
       "      <td>3388552.0</td>\n",
       "      <td>Weekly</td>\n",
       "      <td>4165.0</td>\n",
       "      <td>0.0</td>\n",
       "      <td>0</td>\n",
       "      <td>0.0</td>\n",
       "      <td>0</td>\n",
       "      <td>Good</td>\n",
       "      <td>Good</td>\n",
       "    </tr>\n",
       "    <tr>\n",
       "      <th>3367</th>\n",
       "      <td>3317853.0</td>\n",
       "      <td>Daily</td>\n",
       "      <td>24000.0</td>\n",
       "      <td>0.0</td>\n",
       "      <td>0</td>\n",
       "      <td>0.0</td>\n",
       "      <td>0</td>\n",
       "      <td>Good</td>\n",
       "      <td>Good</td>\n",
       "    </tr>\n",
       "    <tr>\n",
       "      <th>3368</th>\n",
       "      <td>2230382.0</td>\n",
       "      <td>Weekly</td>\n",
       "      <td>2850.0</td>\n",
       "      <td>0.0</td>\n",
       "      <td>0</td>\n",
       "      <td>0.0</td>\n",
       "      <td>0</td>\n",
       "      <td>Good</td>\n",
       "      <td>Good</td>\n",
       "    </tr>\n",
       "    <tr>\n",
       "      <th>3369</th>\n",
       "      <td>3315334.0</td>\n",
       "      <td>Daily</td>\n",
       "      <td>13700.0</td>\n",
       "      <td>0.0</td>\n",
       "      <td>0</td>\n",
       "      <td>0.0</td>\n",
       "      <td>0</td>\n",
       "      <td>Good</td>\n",
       "      <td>Good</td>\n",
       "    </tr>\n",
       "  </tbody>\n",
       "</table>\n",
       "<p>3370 rows × 9 columns</p>\n",
       "</div>"
      ],
      "text/plain": [
       "      customer auto id customer seasonality (frequency of purchase)  \\\n",
       "0            2198742.0                                       Weekly   \n",
       "1            3387576.0                                       Weekly   \n",
       "2            3081652.0                                        Daily   \n",
       "3            2198724.0                                        Daily   \n",
       "4            2182883.0                                        Daily   \n",
       "...                ...                                          ...   \n",
       "3365         3381060.0                                       Weekly   \n",
       "3366         3388552.0                                       Weekly   \n",
       "3367         3317853.0                                        Daily   \n",
       "3368         2230382.0                                       Weekly   \n",
       "3369         3315334.0                                        Daily   \n",
       "\n",
       "      amount requested  amount issued unique sale id  paid amount  \\\n",
       "0              38550.0        38550.0        3322459      38550.0   \n",
       "1              68900.0        68900.0        3321894      68900.0   \n",
       "2              21800.0        21800.0        3321852      21800.0   \n",
       "3              50000.0        50000.0        3321845      50000.0   \n",
       "4              19480.0        19480.0        3321799      19480.0   \n",
       "...                ...            ...            ...          ...   \n",
       "3365           22660.0            0.0              0          0.0   \n",
       "3366            4165.0            0.0              0          0.0   \n",
       "3367           24000.0            0.0              0          0.0   \n",
       "3368            2850.0            0.0              0          0.0   \n",
       "3369           13700.0            0.0              0          0.0   \n",
       "\n",
       "     repayment days good_bad_flag status  \n",
       "0                 7          Good   Good  \n",
       "1                 6          Good   Good  \n",
       "2                 6          Good   Good  \n",
       "3                 6          Good   Good  \n",
       "4                 4          Good   Good  \n",
       "...             ...           ...    ...  \n",
       "3365              0          Good   Good  \n",
       "3366              0          Good   Good  \n",
       "3367              0          Good   Good  \n",
       "3368              0          Good   Good  \n",
       "3369              0          Good   Good  \n",
       "\n",
       "[3370 rows x 9 columns]"
      ]
     },
     "execution_count": 618,
     "metadata": {},
     "output_type": "execute_result"
    }
   ],
   "source": [
    "df = df.replace(np.nan, 0, regex=True)\n",
    "df"
   ]
  },
  {
   "cell_type": "markdown",
   "id": "eae9b1ed",
   "metadata": {},
   "source": [
    "## Preprocessing few continuous variables"
   ]
  },
  {
   "cell_type": "code",
   "execution_count": 619,
   "id": "953eb29d",
   "metadata": {},
   "outputs": [],
   "source": [
    "# Converting 'customer auto id' to string\n",
    "df['customer auto id'] = df['customer auto id'].astype(str)"
   ]
  },
  {
   "cell_type": "code",
   "execution_count": 620,
   "id": "3e6e94ad",
   "metadata": {},
   "outputs": [],
   "source": [
    "# Converting customer 'repayment days' to numeric\n",
    "\n",
    "df['repayment days'] = pd.to_numeric(df['repayment days'])"
   ]
  },
  {
   "cell_type": "code",
   "execution_count": 621,
   "id": "331a2224",
   "metadata": {},
   "outputs": [],
   "source": [
    "pd.options.display.max_columns = None\n",
    "#pd.options.display.max_rows = None\n",
    "# Sets the pandas dataframe options to display all columns/ rows."
   ]
  },
  {
   "cell_type": "code",
   "execution_count": 622,
   "id": "6c6aa325",
   "metadata": {},
   "outputs": [
    {
     "data": {
      "text/plain": [
       "array(['customer auto id', 'customer seasonality (frequency of purchase)',\n",
       "       'amount requested', 'amount issued', 'unique sale id',\n",
       "       'paid amount', 'repayment days', 'good_bad_flag', 'status'],\n",
       "      dtype=object)"
      ]
     },
     "execution_count": 622,
     "metadata": {},
     "output_type": "execute_result"
    }
   ],
   "source": [
    "df.columns.values\n",
    "# Displays all column names."
   ]
  },
  {
   "cell_type": "code",
   "execution_count": 623,
   "id": "c1cebfcc",
   "metadata": {},
   "outputs": [
    {
     "name": "stdout",
     "output_type": "stream",
     "text": [
      "<class 'pandas.core.frame.DataFrame'>\n",
      "RangeIndex: 3370 entries, 0 to 3369\n",
      "Data columns (total 9 columns):\n",
      " #   Column                                        Non-Null Count  Dtype  \n",
      "---  ------                                        --------------  -----  \n",
      " 0   customer auto id                              3370 non-null   object \n",
      " 1   customer seasonality (frequency of purchase)  3370 non-null   object \n",
      " 2   amount requested                              3370 non-null   float64\n",
      " 3   amount issued                                 3370 non-null   float64\n",
      " 4   unique sale id                                3370 non-null   object \n",
      " 5   paid amount                                   3370 non-null   float64\n",
      " 6   repayment days                                3370 non-null   int64  \n",
      " 7   good_bad_flag                                 3370 non-null   object \n",
      " 8   status                                        3370 non-null   object \n",
      "dtypes: float64(3), int64(1), object(5)\n",
      "memory usage: 237.1+ KB\n"
     ]
    }
   ],
   "source": [
    "df.info()\n",
    "# Displays column names, complete (non-missing) cases per column, and datatype per column."
   ]
  },
  {
   "cell_type": "code",
   "execution_count": 624,
   "id": "7e95f2bd",
   "metadata": {},
   "outputs": [
    {
     "data": {
      "text/html": [
       "<div>\n",
       "<style scoped>\n",
       "    .dataframe tbody tr th:only-of-type {\n",
       "        vertical-align: middle;\n",
       "    }\n",
       "\n",
       "    .dataframe tbody tr th {\n",
       "        vertical-align: top;\n",
       "    }\n",
       "\n",
       "    .dataframe thead th {\n",
       "        text-align: right;\n",
       "    }\n",
       "</style>\n",
       "<table border=\"1\" class=\"dataframe\">\n",
       "  <thead>\n",
       "    <tr style=\"text-align: right;\">\n",
       "      <th></th>\n",
       "      <th>count</th>\n",
       "      <th>mean</th>\n",
       "      <th>std</th>\n",
       "      <th>min</th>\n",
       "      <th>25%</th>\n",
       "      <th>50%</th>\n",
       "      <th>75%</th>\n",
       "      <th>max</th>\n",
       "    </tr>\n",
       "  </thead>\n",
       "  <tbody>\n",
       "    <tr>\n",
       "      <th>amount requested</th>\n",
       "      <td>3370.0</td>\n",
       "      <td>43223.209199</td>\n",
       "      <td>72672.000572</td>\n",
       "      <td>0.0</td>\n",
       "      <td>8750.0</td>\n",
       "      <td>21590.0</td>\n",
       "      <td>48652.5</td>\n",
       "      <td>1033100.0</td>\n",
       "    </tr>\n",
       "    <tr>\n",
       "      <th>amount issued</th>\n",
       "      <td>3370.0</td>\n",
       "      <td>34291.421958</td>\n",
       "      <td>63372.343633</td>\n",
       "      <td>0.0</td>\n",
       "      <td>3280.0</td>\n",
       "      <td>14935.0</td>\n",
       "      <td>37915.0</td>\n",
       "      <td>780000.0</td>\n",
       "    </tr>\n",
       "    <tr>\n",
       "      <th>paid amount</th>\n",
       "      <td>3370.0</td>\n",
       "      <td>28957.995549</td>\n",
       "      <td>56375.433074</td>\n",
       "      <td>0.0</td>\n",
       "      <td>0.0</td>\n",
       "      <td>11375.0</td>\n",
       "      <td>32562.5</td>\n",
       "      <td>780000.0</td>\n",
       "    </tr>\n",
       "    <tr>\n",
       "      <th>repayment days</th>\n",
       "      <td>3370.0</td>\n",
       "      <td>5.035015</td>\n",
       "      <td>6.857448</td>\n",
       "      <td>0.0</td>\n",
       "      <td>0.0</td>\n",
       "      <td>3.0</td>\n",
       "      <td>7.0</td>\n",
       "      <td>55.0</td>\n",
       "    </tr>\n",
       "  </tbody>\n",
       "</table>\n",
       "</div>"
      ],
      "text/plain": [
       "                   count          mean           std  min     25%      50%  \\\n",
       "amount requested  3370.0  43223.209199  72672.000572  0.0  8750.0  21590.0   \n",
       "amount issued     3370.0  34291.421958  63372.343633  0.0  3280.0  14935.0   \n",
       "paid amount       3370.0  28957.995549  56375.433074  0.0     0.0  11375.0   \n",
       "repayment days    3370.0      5.035015      6.857448  0.0     0.0      3.0   \n",
       "\n",
       "                      75%        max  \n",
       "amount requested  48652.5  1033100.0  \n",
       "amount issued     37915.0   780000.0  \n",
       "paid amount       32562.5   780000.0  \n",
       "repayment days        7.0       55.0  "
      ]
     },
     "execution_count": 624,
     "metadata": {},
     "output_type": "execute_result"
    }
   ],
   "source": [
    "#Describe the data to show descriptive statistics about the data frame: count, mean, std dev, max, min and quartiles\n",
    "df.describe().transpose()"
   ]
  },
  {
   "cell_type": "code",
   "execution_count": 625,
   "id": "d53c8762",
   "metadata": {},
   "outputs": [
    {
     "data": {
      "text/plain": [
       "Good       0.879525\n",
       "Default    0.120475\n",
       "Name: good_bad_flag, dtype: float64"
      ]
     },
     "execution_count": 625,
     "metadata": {},
     "output_type": "execute_result"
    }
   ],
   "source": [
    "# explore the unique values in loan status column\n",
    "df['good_bad_flag'].value_counts(normalize = True)"
   ]
  },
  {
   "cell_type": "code",
   "execution_count": 626,
   "id": "95364331",
   "metadata": {},
   "outputs": [
    {
     "name": "stdout",
     "output_type": "stream",
     "text": [
      "<class 'pandas.core.frame.DataFrame'>\n",
      "RangeIndex: 3370 entries, 0 to 3369\n",
      "Data columns (total 9 columns):\n",
      " #   Column                                        Non-Null Count  Dtype  \n",
      "---  ------                                        --------------  -----  \n",
      " 0   customer auto id                              3370 non-null   object \n",
      " 1   customer seasonality (frequency of purchase)  3370 non-null   object \n",
      " 2   amount requested                              3370 non-null   float64\n",
      " 3   amount issued                                 3370 non-null   float64\n",
      " 4   unique sale id                                3370 non-null   object \n",
      " 5   paid amount                                   3370 non-null   float64\n",
      " 6   repayment days                                3370 non-null   int64  \n",
      " 7   good_bad_flag                                 3370 non-null   object \n",
      " 8   status                                        3370 non-null   object \n",
      "dtypes: float64(3), int64(1), object(5)\n",
      "memory usage: 237.1+ KB\n"
     ]
    }
   ],
   "source": [
    "df.info()"
   ]
  },
  {
   "cell_type": "code",
   "execution_count": 627,
   "id": "d6538191",
   "metadata": {},
   "outputs": [
    {
     "data": {
      "text/html": [
       "<div>\n",
       "<style scoped>\n",
       "    .dataframe tbody tr th:only-of-type {\n",
       "        vertical-align: middle;\n",
       "    }\n",
       "\n",
       "    .dataframe tbody tr th {\n",
       "        vertical-align: top;\n",
       "    }\n",
       "\n",
       "    .dataframe thead th {\n",
       "        text-align: right;\n",
       "    }\n",
       "</style>\n",
       "<table border=\"1\" class=\"dataframe\">\n",
       "  <thead>\n",
       "    <tr style=\"text-align: right;\">\n",
       "      <th></th>\n",
       "      <th>amount requested</th>\n",
       "      <th>amount issued</th>\n",
       "      <th>paid amount</th>\n",
       "      <th>repayment days</th>\n",
       "    </tr>\n",
       "  </thead>\n",
       "  <tbody>\n",
       "    <tr>\n",
       "      <th>count</th>\n",
       "      <td>3.370000e+03</td>\n",
       "      <td>3370.000000</td>\n",
       "      <td>3370.000000</td>\n",
       "      <td>3370.000000</td>\n",
       "    </tr>\n",
       "    <tr>\n",
       "      <th>mean</th>\n",
       "      <td>4.322321e+04</td>\n",
       "      <td>34291.421958</td>\n",
       "      <td>28957.995549</td>\n",
       "      <td>5.035015</td>\n",
       "    </tr>\n",
       "    <tr>\n",
       "      <th>std</th>\n",
       "      <td>7.267200e+04</td>\n",
       "      <td>63372.343633</td>\n",
       "      <td>56375.433074</td>\n",
       "      <td>6.857448</td>\n",
       "    </tr>\n",
       "    <tr>\n",
       "      <th>min</th>\n",
       "      <td>0.000000e+00</td>\n",
       "      <td>0.000000</td>\n",
       "      <td>0.000000</td>\n",
       "      <td>0.000000</td>\n",
       "    </tr>\n",
       "    <tr>\n",
       "      <th>25%</th>\n",
       "      <td>8.750000e+03</td>\n",
       "      <td>3280.000000</td>\n",
       "      <td>0.000000</td>\n",
       "      <td>0.000000</td>\n",
       "    </tr>\n",
       "    <tr>\n",
       "      <th>50%</th>\n",
       "      <td>2.159000e+04</td>\n",
       "      <td>14935.000000</td>\n",
       "      <td>11375.000000</td>\n",
       "      <td>3.000000</td>\n",
       "    </tr>\n",
       "    <tr>\n",
       "      <th>75%</th>\n",
       "      <td>4.865250e+04</td>\n",
       "      <td>37915.000000</td>\n",
       "      <td>32562.500000</td>\n",
       "      <td>7.000000</td>\n",
       "    </tr>\n",
       "    <tr>\n",
       "      <th>max</th>\n",
       "      <td>1.033100e+06</td>\n",
       "      <td>780000.000000</td>\n",
       "      <td>780000.000000</td>\n",
       "      <td>55.000000</td>\n",
       "    </tr>\n",
       "  </tbody>\n",
       "</table>\n",
       "</div>"
      ],
      "text/plain": [
       "       amount requested  amount issued    paid amount  repayment days\n",
       "count      3.370000e+03    3370.000000    3370.000000     3370.000000\n",
       "mean       4.322321e+04   34291.421958   28957.995549        5.035015\n",
       "std        7.267200e+04   63372.343633   56375.433074        6.857448\n",
       "min        0.000000e+00       0.000000       0.000000        0.000000\n",
       "25%        8.750000e+03    3280.000000       0.000000        0.000000\n",
       "50%        2.159000e+04   14935.000000   11375.000000        3.000000\n",
       "75%        4.865250e+04   37915.000000   32562.500000        7.000000\n",
       "max        1.033100e+06  780000.000000  780000.000000       55.000000"
      ]
     },
     "execution_count": 627,
     "metadata": {},
     "output_type": "execute_result"
    }
   ],
   "source": [
    "df.describe()"
   ]
  },
  {
   "cell_type": "code",
   "execution_count": 628,
   "id": "91a20bd5",
   "metadata": {},
   "outputs": [
    {
     "data": {
      "text/html": [
       "<div>\n",
       "<style scoped>\n",
       "    .dataframe tbody tr th:only-of-type {\n",
       "        vertical-align: middle;\n",
       "    }\n",
       "\n",
       "    .dataframe tbody tr th {\n",
       "        vertical-align: top;\n",
       "    }\n",
       "\n",
       "    .dataframe thead th {\n",
       "        text-align: right;\n",
       "    }\n",
       "</style>\n",
       "<table border=\"1\" class=\"dataframe\">\n",
       "  <thead>\n",
       "    <tr style=\"text-align: right;\">\n",
       "      <th></th>\n",
       "      <th>count</th>\n",
       "      <th>mean</th>\n",
       "      <th>std</th>\n",
       "      <th>min</th>\n",
       "      <th>25%</th>\n",
       "      <th>50%</th>\n",
       "      <th>75%</th>\n",
       "      <th>max</th>\n",
       "    </tr>\n",
       "  </thead>\n",
       "  <tbody>\n",
       "    <tr>\n",
       "      <th>amount requested</th>\n",
       "      <td>3370.0</td>\n",
       "      <td>43223.209199</td>\n",
       "      <td>72672.000572</td>\n",
       "      <td>0.0</td>\n",
       "      <td>8750.0</td>\n",
       "      <td>21590.0</td>\n",
       "      <td>48652.5</td>\n",
       "      <td>1033100.0</td>\n",
       "    </tr>\n",
       "    <tr>\n",
       "      <th>amount issued</th>\n",
       "      <td>3370.0</td>\n",
       "      <td>34291.421958</td>\n",
       "      <td>63372.343633</td>\n",
       "      <td>0.0</td>\n",
       "      <td>3280.0</td>\n",
       "      <td>14935.0</td>\n",
       "      <td>37915.0</td>\n",
       "      <td>780000.0</td>\n",
       "    </tr>\n",
       "    <tr>\n",
       "      <th>paid amount</th>\n",
       "      <td>3370.0</td>\n",
       "      <td>28957.995549</td>\n",
       "      <td>56375.433074</td>\n",
       "      <td>0.0</td>\n",
       "      <td>0.0</td>\n",
       "      <td>11375.0</td>\n",
       "      <td>32562.5</td>\n",
       "      <td>780000.0</td>\n",
       "    </tr>\n",
       "    <tr>\n",
       "      <th>repayment days</th>\n",
       "      <td>3370.0</td>\n",
       "      <td>5.035015</td>\n",
       "      <td>6.857448</td>\n",
       "      <td>0.0</td>\n",
       "      <td>0.0</td>\n",
       "      <td>3.0</td>\n",
       "      <td>7.0</td>\n",
       "      <td>55.0</td>\n",
       "    </tr>\n",
       "  </tbody>\n",
       "</table>\n",
       "</div>"
      ],
      "text/plain": [
       "                   count          mean           std  min     25%      50%  \\\n",
       "amount requested  3370.0  43223.209199  72672.000572  0.0  8750.0  21590.0   \n",
       "amount issued     3370.0  34291.421958  63372.343633  0.0  3280.0  14935.0   \n",
       "paid amount       3370.0  28957.995549  56375.433074  0.0     0.0  11375.0   \n",
       "repayment days    3370.0      5.035015      6.857448  0.0     0.0      3.0   \n",
       "\n",
       "                      75%        max  \n",
       "amount requested  48652.5  1033100.0  \n",
       "amount issued     37915.0   780000.0  \n",
       "paid amount       32562.5   780000.0  \n",
       "repayment days        7.0       55.0  "
      ]
     },
     "execution_count": 628,
     "metadata": {},
     "output_type": "execute_result"
    }
   ],
   "source": [
    "df.describe().transpose()"
   ]
  },
  {
   "cell_type": "code",
   "execution_count": 629,
   "id": "ba4bd5fb",
   "metadata": {},
   "outputs": [
    {
     "data": {
      "text/plain": [
       "Good         0.873294\n",
       "Defaulted    0.126706\n",
       "Name: status, dtype: float64"
      ]
     },
     "execution_count": 629,
     "metadata": {},
     "output_type": "execute_result"
    }
   ],
   "source": [
    "# explore the unique values in status column\n",
    "df['status'].value_counts(normalize = True)"
   ]
  },
  {
   "cell_type": "markdown",
   "id": "895fe04b",
   "metadata": {},
   "source": [
    "\n",
    "# Part 1: Exploratory Data Analysis\n",
    "\n",
    "**OVERALL GOAL: Get an understanding for which variables are important, view summary statistics, and visualize the data**\n",
    "\n",
    "\n",
    "----"
   ]
  },
  {
   "cell_type": "markdown",
   "id": "dba255ec",
   "metadata": {},
   "source": [
    "## Create a Count Plot"
   ]
  },
  {
   "cell_type": "code",
   "execution_count": 630,
   "id": "95a74b74",
   "metadata": {},
   "outputs": [
    {
     "data": {
      "text/plain": [
       "<AxesSubplot:xlabel='customer seasonality (frequency of purchase)', ylabel='count'>"
      ]
     },
     "execution_count": 630,
     "metadata": {},
     "output_type": "execute_result"
    },
    {
     "data": {
      "image/png": "[encoded data removed]",
      "text/plain": [
       "<Figure size 432x288 with 1 Axes>"
      ]
     },
     "metadata": {
      "needs_background": "light"
     },
     "output_type": "display_data"
    }
   ],
   "source": [
    "sns.countplot(x='customer seasonality (frequency of purchase)', data=df)"
   ]
  },
  {
   "cell_type": "code",
   "execution_count": 631,
   "id": "a71cdeed",
   "metadata": {},
   "outputs": [
    {
     "data": {
      "text/plain": [
       "<AxesSubplot:xlabel='status', ylabel='count'>"
      ]
     },
     "execution_count": 631,
     "metadata": {},
     "output_type": "execute_result"
    },
    {
     "data": {
      "image/png": "[encoded data removed]",
      "text/plain": [
       "<Figure size 432x288 with 1 Axes>"
      ]
     },
     "metadata": {
      "needs_background": "light"
     },
     "output_type": "display_data"
    }
   ],
   "source": [
    "sns.countplot(x='status',data=df)"
   ]
  },
  {
   "cell_type": "markdown",
   "id": "2cda753c",
   "metadata": {},
   "source": [
    "There are more people who payoff their loans than charged off. A common occurence when also come to Fraud and spam in classification modelling"
   ]
  },
  {
   "cell_type": "markdown",
   "id": "5a156bcd",
   "metadata": {},
   "source": [
    "The data is imbalanced and hence we'll do well in accuracy but our Precision and Recall will be our True measurement"
   ]
  },
  {
   "cell_type": "markdown",
   "id": "84a05f12",
   "metadata": {},
   "source": [
    "## Make a histogram of the amount_issued column"
   ]
  },
  {
   "cell_type": "code",
   "execution_count": 632,
   "id": "191fb971",
   "metadata": {},
   "outputs": [
    {
     "name": "stderr",
     "output_type": "stream",
     "text": [
      "C:\\Users\\HP\\anaconda3\\lib\\site-packages\\seaborn\\distributions.py:2557: FutureWarning: `distplot` is a deprecated function and will be removed in a future version. Please adapt your code to use either `displot` (a figure-level function with similar flexibility) or `histplot` (an axes-level function for histograms).\n",
      "  warnings.warn(msg, FutureWarning)\n"
     ]
    },
    {
     "data": {
      "text/plain": [
       "<AxesSubplot:xlabel='amount issued'>"
      ]
     },
     "execution_count": 632,
     "metadata": {},
     "output_type": "execute_result"
    },
    {
     "data": {
      "image/png": "[encoded data removed]",
      "text/plain": [
       "<Figure size 864x288 with 1 Axes>"
      ]
     },
     "metadata": {
      "needs_background": "light"
     },
     "output_type": "display_data"
    }
   ],
   "source": [
    "plt.figure(figsize=(12,4))\n",
    "sns.distplot(df['amount issued'],kde=False,bins=40)"
   ]
  },
  {
   "cell_type": "code",
   "execution_count": 633,
   "id": "cbd2ab41",
   "metadata": {},
   "outputs": [
    {
     "data": {
      "text/html": [
       "<div>\n",
       "<style scoped>\n",
       "    .dataframe tbody tr th:only-of-type {\n",
       "        vertical-align: middle;\n",
       "    }\n",
       "\n",
       "    .dataframe tbody tr th {\n",
       "        vertical-align: top;\n",
       "    }\n",
       "\n",
       "    .dataframe thead th {\n",
       "        text-align: right;\n",
       "    }\n",
       "</style>\n",
       "<table border=\"1\" class=\"dataframe\">\n",
       "  <thead>\n",
       "    <tr style=\"text-align: right;\">\n",
       "      <th></th>\n",
       "      <th>amount requested</th>\n",
       "      <th>amount issued</th>\n",
       "      <th>paid amount</th>\n",
       "      <th>repayment days</th>\n",
       "    </tr>\n",
       "  </thead>\n",
       "  <tbody>\n",
       "    <tr>\n",
       "      <th>amount requested</th>\n",
       "      <td>1.000000</td>\n",
       "      <td>0.833486</td>\n",
       "      <td>0.727145</td>\n",
       "      <td>0.068919</td>\n",
       "    </tr>\n",
       "    <tr>\n",
       "      <th>amount issued</th>\n",
       "      <td>0.833486</td>\n",
       "      <td>1.000000</td>\n",
       "      <td>0.872918</td>\n",
       "      <td>0.171851</td>\n",
       "    </tr>\n",
       "    <tr>\n",
       "      <th>paid amount</th>\n",
       "      <td>0.727145</td>\n",
       "      <td>0.872918</td>\n",
       "      <td>1.000000</td>\n",
       "      <td>0.258088</td>\n",
       "    </tr>\n",
       "    <tr>\n",
       "      <th>repayment days</th>\n",
       "      <td>0.068919</td>\n",
       "      <td>0.171851</td>\n",
       "      <td>0.258088</td>\n",
       "      <td>1.000000</td>\n",
       "    </tr>\n",
       "  </tbody>\n",
       "</table>\n",
       "</div>"
      ],
      "text/plain": [
       "                  amount requested  amount issued  paid amount  repayment days\n",
       "amount requested          1.000000       0.833486     0.727145        0.068919\n",
       "amount issued             0.833486       1.000000     0.872918        0.171851\n",
       "paid amount               0.727145       0.872918     1.000000        0.258088\n",
       "repayment days            0.068919       0.171851     0.258088        1.000000"
      ]
     },
     "execution_count": 633,
     "metadata": {},
     "output_type": "execute_result"
    }
   ],
   "source": [
    "df.corr()"
   ]
  },
  {
   "cell_type": "code",
   "execution_count": 634,
   "id": "1c38b34f",
   "metadata": {},
   "outputs": [
    {
     "data": {
      "text/plain": [
       "(10.0, 0.0)"
      ]
     },
     "execution_count": 634,
     "metadata": {},
     "output_type": "execute_result"
    },
    {
     "data": {
      "image/png": "[encoded data removed]",
      "text/plain": [
       "<Figure size 864x504 with 2 Axes>"
      ]
     },
     "metadata": {
      "needs_background": "light"
     },
     "output_type": "display_data"
    }
   ],
   "source": [
    "plt.figure(figsize=(12,7))\n",
    "sns.heatmap(df.corr(),annot=True, cmap='viridis')\n",
    "plt.ylim(10,0)"
   ]
  },
  {
   "cell_type": "markdown",
   "id": "6b28767b",
   "metadata": {},
   "source": [
    " "
   ]
  },
  {
   "cell_type": "markdown",
   "id": "a3c58ec8",
   "metadata": {},
   "source": [
    "# Preprocessing few Discreet variables"
   ]
  },
  {
   "cell_type": "code",
   "execution_count": 635,
   "id": "465d3f67",
   "metadata": {},
   "outputs": [
    {
     "name": "stdout",
     "output_type": "stream",
     "text": [
      "<class 'pandas.core.frame.DataFrame'>\n",
      "RangeIndex: 3370 entries, 0 to 3369\n",
      "Data columns (total 9 columns):\n",
      " #   Column                                        Non-Null Count  Dtype  \n",
      "---  ------                                        --------------  -----  \n",
      " 0   customer auto id                              3370 non-null   object \n",
      " 1   customer seasonality (frequency of purchase)  3370 non-null   object \n",
      " 2   amount requested                              3370 non-null   float64\n",
      " 3   amount issued                                 3370 non-null   float64\n",
      " 4   unique sale id                                3370 non-null   object \n",
      " 5   paid amount                                   3370 non-null   float64\n",
      " 6   repayment days                                3370 non-null   int64  \n",
      " 7   good_bad_flag                                 3370 non-null   object \n",
      " 8   status                                        3370 non-null   object \n",
      "dtypes: float64(3), int64(1), object(5)\n",
      "memory usage: 237.1+ KB\n"
     ]
    }
   ],
   "source": [
    "df.info()"
   ]
  },
  {
   "cell_type": "code",
   "execution_count": 636,
   "id": "a7d493c5",
   "metadata": {},
   "outputs": [],
   "source": [
    "#Creating dummy variables\n",
    "\n",
    "#df_dummies = pd.get_dummies(df['status'])"
   ]
  },
  {
   "cell_type": "markdown",
   "id": "9b5efaf2",
   "metadata": {},
   "source": [
    "The variables should be added to the data for statistical analysis by appending them"
   ]
  },
  {
   "cell_type": "code",
   "execution_count": 637,
   "id": "f8d24e48",
   "metadata": {},
   "outputs": [],
   "source": [
    "# Concatenating by columns\n",
    "#df = pd.concat([df, df_dummies], axis = 1)"
   ]
  },
  {
   "cell_type": "code",
   "execution_count": 638,
   "id": "c6e3060a",
   "metadata": {},
   "outputs": [
    {
     "data": {
      "text/plain": [
       "array(['customer auto id', 'customer seasonality (frequency of purchase)',\n",
       "       'amount requested', 'amount issued', 'unique sale id',\n",
       "       'paid amount', 'repayment days', 'good_bad_flag', 'status'],\n",
       "      dtype=object)"
      ]
     },
     "execution_count": 638,
     "metadata": {},
     "output_type": "execute_result"
    }
   ],
   "source": [
    "#Checking if the new data variables are appended into the DataFrame\n",
    "\n",
    "df.columns.values"
   ]
  },
  {
   "cell_type": "markdown",
   "id": "83b446a7",
   "metadata": {},
   "source": [
    "## Data Preparation"
   ]
  },
  {
   "cell_type": "code",
   "execution_count": 639,
   "id": "9b5c42b3",
   "metadata": {},
   "outputs": [
    {
     "data": {
      "text/plain": [
       "array(['Good', 'Defaulted'], dtype=object)"
      ]
     },
     "execution_count": 639,
     "metadata": {},
     "output_type": "execute_result"
    }
   ],
   "source": [
    "df['status'].unique()"
   ]
  },
  {
   "cell_type": "code",
   "execution_count": 640,
   "id": "2527b5dd",
   "metadata": {},
   "outputs": [
    {
     "data": {
      "text/plain": [
       "Good         2943\n",
       "Defaulted     427\n",
       "Name: status, dtype: int64"
      ]
     },
     "execution_count": 640,
     "metadata": {},
     "output_type": "execute_result"
    }
   ],
   "source": [
    "df['status'].value_counts()"
   ]
  },
  {
   "cell_type": "code",
   "execution_count": 641,
   "id": "217176b3",
   "metadata": {},
   "outputs": [
    {
     "data": {
      "text/plain": [
       "Good         0.873294\n",
       "Defaulted    0.126706\n",
       "Name: status, dtype: float64"
      ]
     },
     "execution_count": 641,
     "metadata": {},
     "output_type": "execute_result"
    }
   ],
   "source": [
    "# Checking the propotion of accounts by status\n",
    "\n",
    "df['status'].value_counts() / df['status'].count() "
   ]
  },
  {
   "cell_type": "code",
   "execution_count": 642,
   "id": "d41402fd",
   "metadata": {},
   "outputs": [],
   "source": [
    "# standardising the customer seasonality column\n",
    "#All loans indicated as defaulted to be assigned 0 and the rest 1\n",
    "\n",
    "df['good_bad_flag'] = np.where(df['status'].isin(['Defaulted']), 0, 1)"
   ]
  },
  {
   "cell_type": "code",
   "execution_count": 643,
   "id": "d8707b8a",
   "metadata": {},
   "outputs": [],
   "source": [
    "# Creating a Non-Default/Default Indicator\n",
    "#All loans indicated as defaulted to be assigned 0 and the rest 1\n",
    "\n",
    "df['customer seasonality (frequency of purchase)'] = np.where(df['customer seasonality (frequency of purchase)'].isin(['Weekly']), 0, 1)"
   ]
  },
  {
   "cell_type": "code",
   "execution_count": 644,
   "id": "ed2e401a",
   "metadata": {},
   "outputs": [
    {
     "data": {
      "text/html": [
       "<div>\n",
       "<style scoped>\n",
       "    .dataframe tbody tr th:only-of-type {\n",
       "        vertical-align: middle;\n",
       "    }\n",
       "\n",
       "    .dataframe tbody tr th {\n",
       "        vertical-align: top;\n",
       "    }\n",
       "\n",
       "    .dataframe thead th {\n",
       "        text-align: right;\n",
       "    }\n",
       "</style>\n",
       "<table border=\"1\" class=\"dataframe\">\n",
       "  <thead>\n",
       "    <tr style=\"text-align: right;\">\n",
       "      <th></th>\n",
       "      <th>customer auto id</th>\n",
       "      <th>customer seasonality (frequency of purchase)</th>\n",
       "      <th>amount requested</th>\n",
       "      <th>amount issued</th>\n",
       "      <th>unique sale id</th>\n",
       "      <th>paid amount</th>\n",
       "      <th>repayment days</th>\n",
       "      <th>good_bad_flag</th>\n",
       "      <th>status</th>\n",
       "    </tr>\n",
       "  </thead>\n",
       "  <tbody>\n",
       "    <tr>\n",
       "      <th>0</th>\n",
       "      <td>2198742.0</td>\n",
       "      <td>0</td>\n",
       "      <td>38550.0</td>\n",
       "      <td>38550.0</td>\n",
       "      <td>3322459</td>\n",
       "      <td>38550.0</td>\n",
       "      <td>7</td>\n",
       "      <td>1</td>\n",
       "      <td>Good</td>\n",
       "    </tr>\n",
       "    <tr>\n",
       "      <th>1</th>\n",
       "      <td>3387576.0</td>\n",
       "      <td>0</td>\n",
       "      <td>68900.0</td>\n",
       "      <td>68900.0</td>\n",
       "      <td>3321894</td>\n",
       "      <td>68900.0</td>\n",
       "      <td>6</td>\n",
       "      <td>1</td>\n",
       "      <td>Good</td>\n",
       "    </tr>\n",
       "    <tr>\n",
       "      <th>2</th>\n",
       "      <td>3081652.0</td>\n",
       "      <td>1</td>\n",
       "      <td>21800.0</td>\n",
       "      <td>21800.0</td>\n",
       "      <td>3321852</td>\n",
       "      <td>21800.0</td>\n",
       "      <td>6</td>\n",
       "      <td>1</td>\n",
       "      <td>Good</td>\n",
       "    </tr>\n",
       "    <tr>\n",
       "      <th>3</th>\n",
       "      <td>2198724.0</td>\n",
       "      <td>1</td>\n",
       "      <td>50000.0</td>\n",
       "      <td>50000.0</td>\n",
       "      <td>3321845</td>\n",
       "      <td>50000.0</td>\n",
       "      <td>6</td>\n",
       "      <td>1</td>\n",
       "      <td>Good</td>\n",
       "    </tr>\n",
       "    <tr>\n",
       "      <th>4</th>\n",
       "      <td>2182883.0</td>\n",
       "      <td>1</td>\n",
       "      <td>19480.0</td>\n",
       "      <td>19480.0</td>\n",
       "      <td>3321799</td>\n",
       "      <td>19480.0</td>\n",
       "      <td>4</td>\n",
       "      <td>1</td>\n",
       "      <td>Good</td>\n",
       "    </tr>\n",
       "  </tbody>\n",
       "</table>\n",
       "</div>"
      ],
      "text/plain": [
       "  customer auto id  customer seasonality (frequency of purchase)  \\\n",
       "0        2198742.0                                             0   \n",
       "1        3387576.0                                             0   \n",
       "2        3081652.0                                             1   \n",
       "3        2198724.0                                             1   \n",
       "4        2182883.0                                             1   \n",
       "\n",
       "   amount requested  amount issued unique sale id  paid amount  \\\n",
       "0           38550.0        38550.0        3322459      38550.0   \n",
       "1           68900.0        68900.0        3321894      68900.0   \n",
       "2           21800.0        21800.0        3321852      21800.0   \n",
       "3           50000.0        50000.0        3321845      50000.0   \n",
       "4           19480.0        19480.0        3321799      19480.0   \n",
       "\n",
       "   repayment days  good_bad_flag status  \n",
       "0               7              1   Good  \n",
       "1               6              1   Good  \n",
       "2               6              1   Good  \n",
       "3               6              1   Good  \n",
       "4               4              1   Good  "
      ]
     },
     "execution_count": 644,
     "metadata": {},
     "output_type": "execute_result"
    }
   ],
   "source": [
    "df['good_bad_flag']\n",
    "df.head()"
   ]
  },
  {
   "cell_type": "code",
   "execution_count": 645,
   "id": "e9b8d6ed",
   "metadata": {},
   "outputs": [
    {
     "data": {
      "text/html": [
       "<div>\n",
       "<style scoped>\n",
       "    .dataframe tbody tr th:only-of-type {\n",
       "        vertical-align: middle;\n",
       "    }\n",
       "\n",
       "    .dataframe tbody tr th {\n",
       "        vertical-align: top;\n",
       "    }\n",
       "\n",
       "    .dataframe thead th {\n",
       "        text-align: right;\n",
       "    }\n",
       "</style>\n",
       "<table border=\"1\" class=\"dataframe\">\n",
       "  <thead>\n",
       "    <tr style=\"text-align: right;\">\n",
       "      <th></th>\n",
       "      <th>customer auto id</th>\n",
       "      <th>customer seasonality (frequency of purchase)</th>\n",
       "      <th>amount requested</th>\n",
       "      <th>amount issued</th>\n",
       "      <th>unique sale id</th>\n",
       "      <th>paid amount</th>\n",
       "      <th>repayment days</th>\n",
       "      <th>good_bad_flag</th>\n",
       "      <th>status</th>\n",
       "    </tr>\n",
       "  </thead>\n",
       "  <tbody>\n",
       "    <tr>\n",
       "      <th>0</th>\n",
       "      <td>False</td>\n",
       "      <td>False</td>\n",
       "      <td>False</td>\n",
       "      <td>False</td>\n",
       "      <td>False</td>\n",
       "      <td>False</td>\n",
       "      <td>False</td>\n",
       "      <td>False</td>\n",
       "      <td>False</td>\n",
       "    </tr>\n",
       "    <tr>\n",
       "      <th>1</th>\n",
       "      <td>False</td>\n",
       "      <td>False</td>\n",
       "      <td>False</td>\n",
       "      <td>False</td>\n",
       "      <td>False</td>\n",
       "      <td>False</td>\n",
       "      <td>False</td>\n",
       "      <td>False</td>\n",
       "      <td>False</td>\n",
       "    </tr>\n",
       "    <tr>\n",
       "      <th>2</th>\n",
       "      <td>False</td>\n",
       "      <td>False</td>\n",
       "      <td>False</td>\n",
       "      <td>False</td>\n",
       "      <td>False</td>\n",
       "      <td>False</td>\n",
       "      <td>False</td>\n",
       "      <td>False</td>\n",
       "      <td>False</td>\n",
       "    </tr>\n",
       "    <tr>\n",
       "      <th>3</th>\n",
       "      <td>False</td>\n",
       "      <td>False</td>\n",
       "      <td>False</td>\n",
       "      <td>False</td>\n",
       "      <td>False</td>\n",
       "      <td>False</td>\n",
       "      <td>False</td>\n",
       "      <td>False</td>\n",
       "      <td>False</td>\n",
       "    </tr>\n",
       "    <tr>\n",
       "      <th>4</th>\n",
       "      <td>False</td>\n",
       "      <td>False</td>\n",
       "      <td>False</td>\n",
       "      <td>False</td>\n",
       "      <td>False</td>\n",
       "      <td>False</td>\n",
       "      <td>False</td>\n",
       "      <td>False</td>\n",
       "      <td>False</td>\n",
       "    </tr>\n",
       "    <tr>\n",
       "      <th>...</th>\n",
       "      <td>...</td>\n",
       "      <td>...</td>\n",
       "      <td>...</td>\n",
       "      <td>...</td>\n",
       "      <td>...</td>\n",
       "      <td>...</td>\n",
       "      <td>...</td>\n",
       "      <td>...</td>\n",
       "      <td>...</td>\n",
       "    </tr>\n",
       "    <tr>\n",
       "      <th>3365</th>\n",
       "      <td>False</td>\n",
       "      <td>False</td>\n",
       "      <td>False</td>\n",
       "      <td>False</td>\n",
       "      <td>False</td>\n",
       "      <td>False</td>\n",
       "      <td>False</td>\n",
       "      <td>False</td>\n",
       "      <td>False</td>\n",
       "    </tr>\n",
       "    <tr>\n",
       "      <th>3366</th>\n",
       "      <td>False</td>\n",
       "      <td>False</td>\n",
       "      <td>False</td>\n",
       "      <td>False</td>\n",
       "      <td>False</td>\n",
       "      <td>False</td>\n",
       "      <td>False</td>\n",
       "      <td>False</td>\n",
       "      <td>False</td>\n",
       "    </tr>\n",
       "    <tr>\n",
       "      <th>3367</th>\n",
       "      <td>False</td>\n",
       "      <td>False</td>\n",
       "      <td>False</td>\n",
       "      <td>False</td>\n",
       "      <td>False</td>\n",
       "      <td>False</td>\n",
       "      <td>False</td>\n",
       "      <td>False</td>\n",
       "      <td>False</td>\n",
       "    </tr>\n",
       "    <tr>\n",
       "      <th>3368</th>\n",
       "      <td>False</td>\n",
       "      <td>False</td>\n",
       "      <td>False</td>\n",
       "      <td>False</td>\n",
       "      <td>False</td>\n",
       "      <td>False</td>\n",
       "      <td>False</td>\n",
       "      <td>False</td>\n",
       "      <td>False</td>\n",
       "    </tr>\n",
       "    <tr>\n",
       "      <th>3369</th>\n",
       "      <td>False</td>\n",
       "      <td>False</td>\n",
       "      <td>False</td>\n",
       "      <td>False</td>\n",
       "      <td>False</td>\n",
       "      <td>False</td>\n",
       "      <td>False</td>\n",
       "      <td>False</td>\n",
       "      <td>False</td>\n",
       "    </tr>\n",
       "  </tbody>\n",
       "</table>\n",
       "<p>3370 rows × 9 columns</p>\n",
       "</div>"
      ],
      "text/plain": [
       "      customer auto id  customer seasonality (frequency of purchase)  \\\n",
       "0                False                                         False   \n",
       "1                False                                         False   \n",
       "2                False                                         False   \n",
       "3                False                                         False   \n",
       "4                False                                         False   \n",
       "...                ...                                           ...   \n",
       "3365             False                                         False   \n",
       "3366             False                                         False   \n",
       "3367             False                                         False   \n",
       "3368             False                                         False   \n",
       "3369             False                                         False   \n",
       "\n",
       "      amount requested  amount issued  unique sale id  paid amount  \\\n",
       "0                False          False           False        False   \n",
       "1                False          False           False        False   \n",
       "2                False          False           False        False   \n",
       "3                False          False           False        False   \n",
       "4                False          False           False        False   \n",
       "...                ...            ...             ...          ...   \n",
       "3365             False          False           False        False   \n",
       "3366             False          False           False        False   \n",
       "3367             False          False           False        False   \n",
       "3368             False          False           False        False   \n",
       "3369             False          False           False        False   \n",
       "\n",
       "      repayment days  good_bad_flag  status  \n",
       "0              False          False   False  \n",
       "1              False          False   False  \n",
       "2              False          False   False  \n",
       "3              False          False   False  \n",
       "4              False          False   False  \n",
       "...              ...            ...     ...  \n",
       "3365           False          False   False  \n",
       "3366           False          False   False  \n",
       "3367           False          False   False  \n",
       "3368           False          False   False  \n",
       "3369           False          False   False  \n",
       "\n",
       "[3370 rows x 9 columns]"
      ]
     },
     "execution_count": 645,
     "metadata": {},
     "output_type": "execute_result"
    }
   ],
   "source": [
    "# df.isnull() check if data point is missing (True) or not(False)\n",
    "\n",
    "df.isnull()"
   ]
  },
  {
   "cell_type": "markdown",
   "id": "8de4fc15",
   "metadata": {},
   "source": [
    "# Making Independent and Dependent Variables"
   ]
  },
  {
   "cell_type": "code",
   "execution_count": 646,
   "id": "7203e326",
   "metadata": {},
   "outputs": [
    {
     "data": {
      "text/html": [
       "<div>\n",
       "<style scoped>\n",
       "    .dataframe tbody tr th:only-of-type {\n",
       "        vertical-align: middle;\n",
       "    }\n",
       "\n",
       "    .dataframe tbody tr th {\n",
       "        vertical-align: top;\n",
       "    }\n",
       "\n",
       "    .dataframe thead th {\n",
       "        text-align: right;\n",
       "    }\n",
       "</style>\n",
       "<table border=\"1\" class=\"dataframe\">\n",
       "  <thead>\n",
       "    <tr style=\"text-align: right;\">\n",
       "      <th></th>\n",
       "      <th>customer auto id</th>\n",
       "      <th>customer seasonality (frequency of purchase)</th>\n",
       "      <th>amount requested</th>\n",
       "      <th>amount issued</th>\n",
       "      <th>paid amount</th>\n",
       "      <th>repayment days</th>\n",
       "      <th>good_bad_flag</th>\n",
       "    </tr>\n",
       "  </thead>\n",
       "  <tbody>\n",
       "    <tr>\n",
       "      <th>0</th>\n",
       "      <td>2198742.0</td>\n",
       "      <td>0</td>\n",
       "      <td>38550.0</td>\n",
       "      <td>38550.0</td>\n",
       "      <td>38550.0</td>\n",
       "      <td>7</td>\n",
       "      <td>1</td>\n",
       "    </tr>\n",
       "    <tr>\n",
       "      <th>1</th>\n",
       "      <td>3387576.0</td>\n",
       "      <td>0</td>\n",
       "      <td>68900.0</td>\n",
       "      <td>68900.0</td>\n",
       "      <td>68900.0</td>\n",
       "      <td>6</td>\n",
       "      <td>1</td>\n",
       "    </tr>\n",
       "    <tr>\n",
       "      <th>2</th>\n",
       "      <td>3081652.0</td>\n",
       "      <td>1</td>\n",
       "      <td>21800.0</td>\n",
       "      <td>21800.0</td>\n",
       "      <td>21800.0</td>\n",
       "      <td>6</td>\n",
       "      <td>1</td>\n",
       "    </tr>\n",
       "    <tr>\n",
       "      <th>3</th>\n",
       "      <td>2198724.0</td>\n",
       "      <td>1</td>\n",
       "      <td>50000.0</td>\n",
       "      <td>50000.0</td>\n",
       "      <td>50000.0</td>\n",
       "      <td>6</td>\n",
       "      <td>1</td>\n",
       "    </tr>\n",
       "    <tr>\n",
       "      <th>4</th>\n",
       "      <td>2182883.0</td>\n",
       "      <td>1</td>\n",
       "      <td>19480.0</td>\n",
       "      <td>19480.0</td>\n",
       "      <td>19480.0</td>\n",
       "      <td>4</td>\n",
       "      <td>1</td>\n",
       "    </tr>\n",
       "  </tbody>\n",
       "</table>\n",
       "</div>"
      ],
      "text/plain": [
       "  customer auto id  customer seasonality (frequency of purchase)  \\\n",
       "0        2198742.0                                             0   \n",
       "1        3387576.0                                             0   \n",
       "2        3081652.0                                             1   \n",
       "3        2198724.0                                             1   \n",
       "4        2182883.0                                             1   \n",
       "\n",
       "   amount requested  amount issued  paid amount  repayment days  good_bad_flag  \n",
       "0           38550.0        38550.0      38550.0               7              1  \n",
       "1           68900.0        68900.0      68900.0               6              1  \n",
       "2           21800.0        21800.0      21800.0               6              1  \n",
       "3           50000.0        50000.0      50000.0               6              1  \n",
       "4           19480.0        19480.0      19480.0               4              1  "
      ]
     },
     "execution_count": 646,
     "metadata": {},
     "output_type": "execute_result"
    }
   ],
   "source": [
    "#Dropping unwanted columns\n",
    "df.drop(['unique sale id', 'status'], axis=1, inplace=True)\n",
    "df.head()"
   ]
  },
  {
   "cell_type": "code",
   "execution_count": 647,
   "id": "03252d46",
   "metadata": {},
   "outputs": [
    {
     "data": {
      "text/html": [
       "<div>\n",
       "<style scoped>\n",
       "    .dataframe tbody tr th:only-of-type {\n",
       "        vertical-align: middle;\n",
       "    }\n",
       "\n",
       "    .dataframe tbody tr th {\n",
       "        vertical-align: top;\n",
       "    }\n",
       "\n",
       "    .dataframe thead th {\n",
       "        text-align: right;\n",
       "    }\n",
       "</style>\n",
       "<table border=\"1\" class=\"dataframe\">\n",
       "  <thead>\n",
       "    <tr style=\"text-align: right;\">\n",
       "      <th></th>\n",
       "      <th>customer auto id</th>\n",
       "      <th>customer seasonality (frequency of purchase)</th>\n",
       "      <th>amount requested</th>\n",
       "      <th>amount issued</th>\n",
       "      <th>paid amount</th>\n",
       "      <th>repayment days</th>\n",
       "    </tr>\n",
       "  </thead>\n",
       "  <tbody>\n",
       "    <tr>\n",
       "      <th>0</th>\n",
       "      <td>2198742.0</td>\n",
       "      <td>0</td>\n",
       "      <td>38550.0</td>\n",
       "      <td>38550.0</td>\n",
       "      <td>38550.0</td>\n",
       "      <td>7</td>\n",
       "    </tr>\n",
       "    <tr>\n",
       "      <th>1</th>\n",
       "      <td>3387576.0</td>\n",
       "      <td>0</td>\n",
       "      <td>68900.0</td>\n",
       "      <td>68900.0</td>\n",
       "      <td>68900.0</td>\n",
       "      <td>6</td>\n",
       "    </tr>\n",
       "    <tr>\n",
       "      <th>2</th>\n",
       "      <td>3081652.0</td>\n",
       "      <td>1</td>\n",
       "      <td>21800.0</td>\n",
       "      <td>21800.0</td>\n",
       "      <td>21800.0</td>\n",
       "      <td>6</td>\n",
       "    </tr>\n",
       "    <tr>\n",
       "      <th>3</th>\n",
       "      <td>2198724.0</td>\n",
       "      <td>1</td>\n",
       "      <td>50000.0</td>\n",
       "      <td>50000.0</td>\n",
       "      <td>50000.0</td>\n",
       "      <td>6</td>\n",
       "    </tr>\n",
       "    <tr>\n",
       "      <th>4</th>\n",
       "      <td>2182883.0</td>\n",
       "      <td>1</td>\n",
       "      <td>19480.0</td>\n",
       "      <td>19480.0</td>\n",
       "      <td>19480.0</td>\n",
       "      <td>4</td>\n",
       "    </tr>\n",
       "  </tbody>\n",
       "</table>\n",
       "</div>"
      ],
      "text/plain": [
       "  customer auto id  customer seasonality (frequency of purchase)  \\\n",
       "0        2198742.0                                             0   \n",
       "1        3387576.0                                             0   \n",
       "2        3081652.0                                             1   \n",
       "3        2198724.0                                             1   \n",
       "4        2182883.0                                             1   \n",
       "\n",
       "   amount requested  amount issued  paid amount  repayment days  \n",
       "0           38550.0        38550.0      38550.0               7  \n",
       "1           68900.0        68900.0      68900.0               6  \n",
       "2           21800.0        21800.0      21800.0               6  \n",
       "3           50000.0        50000.0      50000.0               6  \n",
       "4           19480.0        19480.0      19480.0               4  "
      ]
     },
     "execution_count": 647,
     "metadata": {},
     "output_type": "execute_result"
    }
   ],
   "source": [
    "# Independent variables\n",
    "X = df.drop(['good_bad_flag'], axis=1)\n",
    "# Dependent variables\n",
    "y = df['good_bad_flag']\n",
    "X.head()"
   ]
  },
  {
   "cell_type": "code",
   "execution_count": 648,
   "id": "030f136f",
   "metadata": {},
   "outputs": [
    {
     "name": "stdout",
     "output_type": "stream",
     "text": [
      "2\n"
     ]
    }
   ],
   "source": [
    "print(np.unique(y).size)"
   ]
  },
  {
   "cell_type": "markdown",
   "id": "5907ad5f",
   "metadata": {},
   "source": [
    "## Feature Scaling"
   ]
  },
  {
   "cell_type": "markdown",
   "id": "6f0abd8d",
   "metadata": {},
   "source": [
    "Feature scaling is done on the independent features so that our model is not biased toward the higher range of values since all features  will be in same range\n",
    "We can use the StandardScaler"
   ]
  },
  {
   "cell_type": "code",
   "execution_count": 649,
   "id": "030f84c1",
   "metadata": {},
   "outputs": [
    {
     "data": {
      "text/html": [
       "<div>\n",
       "<style scoped>\n",
       "    .dataframe tbody tr th:only-of-type {\n",
       "        vertical-align: middle;\n",
       "    }\n",
       "\n",
       "    .dataframe tbody tr th {\n",
       "        vertical-align: top;\n",
       "    }\n",
       "\n",
       "    .dataframe thead th {\n",
       "        text-align: right;\n",
       "    }\n",
       "</style>\n",
       "<table border=\"1\" class=\"dataframe\">\n",
       "  <thead>\n",
       "    <tr style=\"text-align: right;\">\n",
       "      <th></th>\n",
       "      <th>customer auto id</th>\n",
       "      <th>customer seasonality (frequency of purchase)</th>\n",
       "      <th>amount requested</th>\n",
       "      <th>amount issued</th>\n",
       "      <th>paid amount</th>\n",
       "      <th>repayment days</th>\n",
       "      <th>good_bad_flag</th>\n",
       "    </tr>\n",
       "  </thead>\n",
       "  <tbody>\n",
       "    <tr>\n",
       "      <th>0</th>\n",
       "      <td>2198742.0</td>\n",
       "      <td>0</td>\n",
       "      <td>38550.0</td>\n",
       "      <td>38550.0</td>\n",
       "      <td>38550.0</td>\n",
       "      <td>7</td>\n",
       "      <td>1</td>\n",
       "    </tr>\n",
       "    <tr>\n",
       "      <th>1</th>\n",
       "      <td>3387576.0</td>\n",
       "      <td>0</td>\n",
       "      <td>68900.0</td>\n",
       "      <td>68900.0</td>\n",
       "      <td>68900.0</td>\n",
       "      <td>6</td>\n",
       "      <td>1</td>\n",
       "    </tr>\n",
       "    <tr>\n",
       "      <th>2</th>\n",
       "      <td>3081652.0</td>\n",
       "      <td>1</td>\n",
       "      <td>21800.0</td>\n",
       "      <td>21800.0</td>\n",
       "      <td>21800.0</td>\n",
       "      <td>6</td>\n",
       "      <td>1</td>\n",
       "    </tr>\n",
       "    <tr>\n",
       "      <th>3</th>\n",
       "      <td>2198724.0</td>\n",
       "      <td>1</td>\n",
       "      <td>50000.0</td>\n",
       "      <td>50000.0</td>\n",
       "      <td>50000.0</td>\n",
       "      <td>6</td>\n",
       "      <td>1</td>\n",
       "    </tr>\n",
       "    <tr>\n",
       "      <th>4</th>\n",
       "      <td>2182883.0</td>\n",
       "      <td>1</td>\n",
       "      <td>19480.0</td>\n",
       "      <td>19480.0</td>\n",
       "      <td>19480.0</td>\n",
       "      <td>4</td>\n",
       "      <td>1</td>\n",
       "    </tr>\n",
       "  </tbody>\n",
       "</table>\n",
       "</div>"
      ],
      "text/plain": [
       "  customer auto id  customer seasonality (frequency of purchase)  \\\n",
       "0        2198742.0                                             0   \n",
       "1        3387576.0                                             0   \n",
       "2        3081652.0                                             1   \n",
       "3        2198724.0                                             1   \n",
       "4        2182883.0                                             1   \n",
       "\n",
       "   amount requested  amount issued  paid amount  repayment days  good_bad_flag  \n",
       "0           38550.0        38550.0      38550.0               7              1  \n",
       "1           68900.0        68900.0      68900.0               6              1  \n",
       "2           21800.0        21800.0      21800.0               6              1  \n",
       "3           50000.0        50000.0      50000.0               6              1  \n",
       "4           19480.0        19480.0      19480.0               4              1  "
      ]
     },
     "execution_count": 649,
     "metadata": {},
     "output_type": "execute_result"
    }
   ],
   "source": [
    "df.head()"
   ]
  },
  {
   "cell_type": "code",
   "execution_count": 650,
   "id": "20d7f7d5",
   "metadata": {},
   "outputs": [],
   "source": [
    "from sklearn.preprocessing import StandardScaler\n",
    "scaler= StandardScaler()\n",
    "X= scaler.fit_transform(X)"
   ]
  },
  {
   "cell_type": "markdown",
   "id": "08f0342f",
   "metadata": {},
   "source": [
    "## Train Test Split"
   ]
  },
  {
   "cell_type": "code",
   "execution_count": 651,
   "id": "8e182ca1",
   "metadata": {},
   "outputs": [],
   "source": [
    "from sklearn.model_selection import train_test_split\n",
    "X_train,X_test,y_train,y_test= train_test_split(X,y,test_size=0.20,random_state=42)\n",
    "\n"
   ]
  },
  {
   "cell_type": "code",
   "execution_count": 652,
   "id": "d93c06c0",
   "metadata": {},
   "outputs": [
    {
     "name": "stdout",
     "output_type": "stream",
     "text": [
      "Before oversampling:  Counter({1: 2352, 0: 344})\n",
      "After oversampling:  Counter({1: 2352, 0: 2352})\n"
     ]
    }
   ],
   "source": [
    "from imblearn.over_sampling import SMOTE\n",
    "from collections import Counter\n",
    "\n",
    "# summarize class distribution\n",
    "print(\"Before oversampling: \",Counter(y_train))\n",
    "\n",
    "# define oversampling strategy\n",
    "SMOTE= SMOTE()\n",
    "\n",
    "# fit and apply the transform \n",
    "X_train,y_train= SMOTE.fit_resample(X_train,y_train)\n",
    "\n",
    "# summarize class distribution\n",
    "print(\"After oversampling: \",Counter(y_train))"
   ]
  },
  {
   "cell_type": "markdown",
   "id": "c62b2b1c",
   "metadata": {},
   "source": [
    "# Building Model"
   ]
  },
  {
   "cell_type": "markdown",
   "id": "3f4df773",
   "metadata": {},
   "source": [
    "•\tLogistic Regression\n",
    "\n",
    "•\tRandom Forest Classifier\n",
    "\n",
    "•\tXGBoost Classifier\n",
    "\n",
    "•\tSupport vector machine classifier"
   ]
  },
  {
   "cell_type": "markdown",
   "id": "45873368",
   "metadata": {},
   "source": [
    "## Logistic regression Model:"
   ]
  },
  {
   "cell_type": "code",
   "execution_count": 653,
   "id": "d40fa700",
   "metadata": {},
   "outputs": [
    {
     "data": {
      "text/plain": [
       "LogisticRegression()"
      ]
     },
     "execution_count": 653,
     "metadata": {},
     "output_type": "execute_result"
    }
   ],
   "source": [
    "from sklearn.linear_model import LogisticRegression\n",
    "logit= LogisticRegression()\n",
    "logit.fit(X_train, y_train)"
   ]
  },
  {
   "cell_type": "code",
   "execution_count": 654,
   "id": "b2444b58",
   "metadata": {},
   "outputs": [],
   "source": [
    "# Predicting the model\n",
    "pred_logit= logit.predict(X_test)"
   ]
  },
  {
   "cell_type": "markdown",
   "id": "b1b6b454",
   "metadata": {},
   "source": [
    "## Evaluation metrics"
   ]
  },
  {
   "cell_type": "code",
   "execution_count": 655,
   "id": "d5a48fda",
   "metadata": {},
   "outputs": [
    {
     "name": "stdout",
     "output_type": "stream",
     "text": [
      "The accuracy of logit model is: 0.9821958456973294\n",
      "              precision    recall  f1-score   support\n",
      "\n",
      "           0       1.00      0.86      0.92        83\n",
      "           1       0.98      1.00      0.99       591\n",
      "\n",
      "    accuracy                           0.98       674\n",
      "   macro avg       0.99      0.93      0.96       674\n",
      "weighted avg       0.98      0.98      0.98       674\n",
      "\n"
     ]
    }
   ],
   "source": [
    "from sklearn.metrics import classification_report, accuracy_score, confusion_matrix, roc_auc_score, plot_confusion_matrix, plot_precision_recall_curve\n",
    "\n",
    "print(\"The accuracy of logit model is:\", accuracy_score(y_test, pred_logit))\n",
    "print(classification_report(y_test, pred_logit))"
   ]
  },
  {
   "cell_type": "code",
   "execution_count": 656,
   "id": "a63dbf0f",
   "metadata": {},
   "outputs": [
    {
     "data": {
      "text/plain": [
       "<sklearn.metrics._plot.confusion_matrix.ConfusionMatrixDisplay at 0x214552087f0>"
      ]
     },
     "execution_count": 656,
     "metadata": {},
     "output_type": "execute_result"
    },
    {
     "data": {
      "image/png": "[encoded data removed]",
      "text/plain": [
       "<Figure size 432x288 with 2 Axes>"
      ]
     },
     "metadata": {
      "needs_background": "light"
     },
     "output_type": "display_data"
    }
   ],
   "source": [
    "# Plot confusion metrics\n",
    "plot_confusion_matrix(logit, X_test, y_test, cmap=\"Blues_r\")"
   ]
  },
  {
   "cell_type": "code",
   "execution_count": 657,
   "id": "28cb28a9",
   "metadata": {},
   "outputs": [
    {
     "data": {
      "text/plain": [
       "<sklearn.metrics._plot.precision_recall_curve.PrecisionRecallDisplay at 0x214552082b0>"
      ]
     },
     "execution_count": 657,
     "metadata": {},
     "output_type": "execute_result"
    },
    {
     "data": {
      "image/png": "[encoded data removed]",
      "text/plain": [
       "<Figure size 432x288 with 1 Axes>"
      ]
     },
     "metadata": {
      "needs_background": "light"
     },
     "output_type": "display_data"
    }
   ],
   "source": [
    "# plot roc_auc curve\n",
    "plot_precision_recall_curve(logit,X_test,y_test)"
   ]
  },
  {
   "cell_type": "markdown",
   "id": "804cdae0",
   "metadata": {},
   "source": [
    "## Random Forest Classifer"
   ]
  },
  {
   "cell_type": "code",
   "execution_count": 658,
   "id": "ca33b101",
   "metadata": {},
   "outputs": [
    {
     "data": {
      "text/plain": [
       "RandomForestClassifier()"
      ]
     },
     "execution_count": 658,
     "metadata": {},
     "output_type": "execute_result"
    }
   ],
   "source": [
    "from sklearn.ensemble import RandomForestClassifier\n",
    "rf= RandomForestClassifier()\n",
    "# Fitting the model\n",
    "rf.fit(X_train,y_train)"
   ]
  },
  {
   "cell_type": "code",
   "execution_count": 659,
   "id": "a9fc6f77",
   "metadata": {},
   "outputs": [],
   "source": [
    "# Predicting the model\n",
    "pred_rf= rf.predict(X_test)"
   ]
  },
  {
   "cell_type": "markdown",
   "id": "b67a33df",
   "metadata": {},
   "source": [
    "## Evaluating the model"
   ]
  },
  {
   "cell_type": "code",
   "execution_count": 660,
   "id": "2591bb5a",
   "metadata": {},
   "outputs": [
    {
     "name": "stdout",
     "output_type": "stream",
     "text": [
      "The accuracy of logit model is: 0.9762611275964391\n",
      "              precision    recall  f1-score   support\n",
      "\n",
      "           0       0.91      0.89      0.90        83\n",
      "           1       0.98      0.99      0.99       591\n",
      "\n",
      "    accuracy                           0.98       674\n",
      "   macro avg       0.95      0.94      0.94       674\n",
      "weighted avg       0.98      0.98      0.98       674\n",
      "\n"
     ]
    }
   ],
   "source": [
    "print(\"The accuracy of logit model is:\", accuracy_score(y_test, pred_rf))\n",
    "print(classification_report(y_test,pred_rf ))"
   ]
  },
  {
   "cell_type": "markdown",
   "id": "489449da",
   "metadata": {},
   "source": [
    "## XGBoost Classifier"
   ]
  },
  {
   "cell_type": "code",
   "execution_count": 661,
   "id": "e069ae8a",
   "metadata": {},
   "outputs": [
    {
     "name": "stdout",
     "output_type": "stream",
     "text": [
      "[16:30:29] WARNING: C:/Users/Administrator/workspace/xgboost-win64_release_1.4.0/src/learner.cc:1095: Starting in XGBoost 1.3.0, the default evaluation metric used with the objective 'binary:logistic' was changed from 'error' to 'logloss'. Explicitly set eval_metric if you'd like to restore the old behavior.\n"
     ]
    },
    {
     "name": "stderr",
     "output_type": "stream",
     "text": [
      "C:\\Users\\HP\\anaconda3\\lib\\site-packages\\xgboost\\sklearn.py:1146: UserWarning: The use of label encoder in XGBClassifier is deprecated and will be removed in a future release. To remove this warning, do the following: 1) Pass option use_label_encoder=False when constructing XGBClassifier object; and 2) Encode your labels (y) as integers starting with 0, i.e. 0, 1, 2, ..., [num_class - 1].\n",
      "  warnings.warn(label_encoder_deprecation_msg, UserWarning)\n"
     ]
    },
    {
     "data": {
      "text/plain": [
       "XGBClassifier(base_score=0.5, booster='gbtree', colsample_bylevel=1,\n",
       "              colsample_bynode=1, colsample_bytree=1, gamma=0, gpu_id=-1,\n",
       "              importance_type='gain', interaction_constraints='',\n",
       "              learning_rate=0.300000012, max_delta_step=0, max_depth=6,\n",
       "              min_child_weight=1, missing=nan, monotone_constraints='()',\n",
       "              n_estimators=100, n_jobs=4, num_parallel_tree=1, random_state=0,\n",
       "              reg_alpha=0, reg_lambda=1, scale_pos_weight=1, subsample=1,\n",
       "              tree_method='exact', validate_parameters=1, verbosity=None)"
      ]
     },
     "execution_count": 661,
     "metadata": {},
     "output_type": "execute_result"
    }
   ],
   "source": [
    "import xgboost as xgb\n",
    "\n",
    "xgb_clf= xgb.XGBClassifier()\n",
    "#fitting the model\n",
    "xgb_clf.fit(X_train,y_train)"
   ]
  },
  {
   "cell_type": "code",
   "execution_count": 662,
   "id": "a6413329",
   "metadata": {},
   "outputs": [],
   "source": [
    "## Predicting the model\n",
    "xgb_predict= xgb_clf.predict(X_test)"
   ]
  },
  {
   "cell_type": "markdown",
   "id": "ad103712",
   "metadata": {},
   "source": [
    "## Evaluating the model"
   ]
  },
  {
   "cell_type": "code",
   "execution_count": 663,
   "id": "b44772d3",
   "metadata": {},
   "outputs": [
    {
     "name": "stdout",
     "output_type": "stream",
     "text": [
      "The accuracy of logit model is: 0.9807121661721068\n",
      "              precision    recall  f1-score   support\n",
      "\n",
      "           0       0.95      0.89      0.92        83\n",
      "           1       0.98      0.99      0.99       591\n",
      "\n",
      "    accuracy                           0.98       674\n",
      "   macro avg       0.97      0.94      0.95       674\n",
      "weighted avg       0.98      0.98      0.98       674\n",
      "\n"
     ]
    }
   ],
   "source": [
    "print(\"The accuracy of logit model is:\", accuracy_score(y_test, xgb_predict))\n",
    "print(classification_report(y_test,xgb_predict ))"
   ]
  },
  {
   "cell_type": "code",
   "execution_count": 664,
   "id": "0724207e",
   "metadata": {},
   "outputs": [
    {
     "data": {
      "text/plain": [
       "<sklearn.metrics._plot.confusion_matrix.ConfusionMatrixDisplay at 0x214552d2130>"
      ]
     },
     "execution_count": 664,
     "metadata": {},
     "output_type": "execute_result"
    },
    {
     "data": {
      "image/png": "[encoded data removed]",
      "text/plain": [
       "<Figure size 432x288 with 2 Axes>"
      ]
     },
     "metadata": {
      "needs_background": "light"
     },
     "output_type": "display_data"
    }
   ],
   "source": [
    "# Plot confusion metrics\n",
    "plot_confusion_matrix(xgb_clf, X_test, y_test, cmap=\"Blues_r\")"
   ]
  },
  {
   "cell_type": "code",
   "execution_count": 665,
   "id": "3fd5613a",
   "metadata": {},
   "outputs": [
    {
     "data": {
      "text/plain": [
       "<sklearn.metrics._plot.precision_recall_curve.PrecisionRecallDisplay at 0x2145533ccd0>"
      ]
     },
     "execution_count": 665,
     "metadata": {},
     "output_type": "execute_result"
    },
    {
     "data": {
      "image/png": "[encoded data removed]",
      "text/plain": [
       "<Figure size 432x288 with 1 Axes>"
      ]
     },
     "metadata": {
      "needs_background": "light"
     },
     "output_type": "display_data"
    }
   ],
   "source": [
    "# plot pprcision_recall curve\n",
    "plot_precision_recall_curve(xgb_clf,X_test,y_test)"
   ]
  },
  {
   "cell_type": "markdown",
   "id": "e0797f32",
   "metadata": {},
   "source": [
    "## Hyperparameter Optimization"
   ]
  },
  {
   "cell_type": "code",
   "execution_count": 666,
   "id": "7319a32d",
   "metadata": {},
   "outputs": [],
   "source": [
    "## Hyper Parameter Optimization\n",
    "\n",
    "params={\n",
    " \"learning_rate\"    : [0.05, 0.10, 0.15, 0.20, 0.25, 0.30 ] ,\n",
    " \"max_depth\"        : [ 3, 4, 5, 6, 8, 10, 12, 15],\n",
    " \"min_child_weight\" : [ 1, 3, 5, 7 ],\n",
    " \"gamma\"            : [ 0.0, 0.1, 0.2 , 0.3, 0.4 ],\n",
    " \"colsample_bytree\" : [ 0.3, 0.4, 0.5 , 0.7 ]\n",
    "    \n",
    "}"
   ]
  },
  {
   "cell_type": "code",
   "execution_count": 667,
   "id": "f6595e26",
   "metadata": {},
   "outputs": [],
   "source": [
    "## Hyperparameter optimization using RandomizedSearchCV\n",
    "from sklearn.model_selection import RandomizedSearchCV, GridSearchCV"
   ]
  },
  {
   "cell_type": "code",
   "execution_count": 668,
   "id": "929ed495",
   "metadata": {
    "scrolled": true
   },
   "outputs": [
    {
     "name": "stdout",
     "output_type": "stream",
     "text": [
      "Fitting 5 folds for each of 5 candidates, totalling 25 fits\n"
     ]
    },
    {
     "name": "stderr",
     "output_type": "stream",
     "text": [
      "C:\\Users\\HP\\anaconda3\\lib\\site-packages\\xgboost\\sklearn.py:1146: UserWarning: The use of label encoder in XGBClassifier is deprecated and will be removed in a future release. To remove this warning, do the following: 1) Pass option use_label_encoder=False when constructing XGBClassifier object; and 2) Encode your labels (y) as integers starting with 0, i.e. 0, 1, 2, ..., [num_class - 1].\n",
      "  warnings.warn(label_encoder_deprecation_msg, UserWarning)\n"
     ]
    },
    {
     "name": "stdout",
     "output_type": "stream",
     "text": [
      "[16:30:36] WARNING: C:/Users/Administrator/workspace/xgboost-win64_release_1.4.0/src/learner.cc:1095: Starting in XGBoost 1.3.0, the default evaluation metric used with the objective 'binary:logistic' was changed from 'error' to 'logloss'. Explicitly set eval_metric if you'd like to restore the old behavior.\n"
     ]
    },
    {
     "data": {
      "text/plain": [
       "RandomizedSearchCV(cv=5,\n",
       "                   estimator=XGBClassifier(base_score=0.5, booster='gbtree',\n",
       "                                           colsample_bylevel=1,\n",
       "                                           colsample_bynode=1,\n",
       "                                           colsample_bytree=1, gamma=0,\n",
       "                                           gpu_id=-1, importance_type='gain',\n",
       "                                           interaction_constraints='',\n",
       "                                           learning_rate=0.300000012,\n",
       "                                           max_delta_step=0, max_depth=6,\n",
       "                                           min_child_weight=1, missing=nan,\n",
       "                                           monotone_constraints='()',\n",
       "                                           n_estimators=100, n_jobs=4,\n",
       "                                           num_pa...\n",
       "                                           reg_alpha=0, reg_lambda=1,\n",
       "                                           scale_pos_weight=1, subsample=1,\n",
       "                                           tree_method='exact',\n",
       "                                           validate_parameters=1,\n",
       "                                           verbosity=None),\n",
       "                   n_iter=5, n_jobs=-1,\n",
       "                   param_distributions={'colsample_bytree': [0.3, 0.4, 0.5,\n",
       "                                                             0.7],\n",
       "                                        'gamma': [0.0, 0.1, 0.2, 0.3, 0.4],\n",
       "                                        'learning_rate': [0.05, 0.1, 0.15, 0.2,\n",
       "                                                          0.25, 0.3],\n",
       "                                        'max_depth': [3, 4, 5, 6, 8, 10, 12,\n",
       "                                                      15],\n",
       "                                        'min_child_weight': [1, 3, 5, 7]},\n",
       "                   scoring='roc_auc', verbose=3)"
      ]
     },
     "execution_count": 668,
     "metadata": {},
     "output_type": "execute_result"
    }
   ],
   "source": [
    "random_search=RandomizedSearchCV(xgb_clf,param_distributions=params,n_iter=5,scoring='roc_auc',n_jobs=-1,cv=5,verbose=3)\n",
    "\n",
    "# fitting the RandomizedSearchCV\n",
    "random_search.fit(X_train,y_train)"
   ]
  },
  {
   "cell_type": "code",
   "execution_count": 669,
   "id": "c3ab8ab5",
   "metadata": {},
   "outputs": [
    {
     "data": {
      "text/plain": [
       "XGBClassifier(base_score=0.5, booster='gbtree', colsample_bylevel=1,\n",
       "              colsample_bynode=1, colsample_bytree=0.7, gamma=0.2, gpu_id=-1,\n",
       "              importance_type='gain', interaction_constraints='',\n",
       "              learning_rate=0.3, max_delta_step=0, max_depth=12,\n",
       "              min_child_weight=7, missing=nan, monotone_constraints='()',\n",
       "              n_estimators=100, n_jobs=4, num_parallel_tree=1, random_state=0,\n",
       "              reg_alpha=0, reg_lambda=1, scale_pos_weight=1, subsample=1,\n",
       "              tree_method='exact', validate_parameters=1, verbosity=None)"
      ]
     },
     "execution_count": 669,
     "metadata": {},
     "output_type": "execute_result"
    }
   ],
   "source": [
    "# Finding the best estimators\n",
    "random_search.best_estimator_"
   ]
  },
  {
   "cell_type": "code",
   "execution_count": 670,
   "id": "95f97791",
   "metadata": {},
   "outputs": [
    {
     "name": "stdout",
     "output_type": "stream",
     "text": [
      "[16:30:37] WARNING: C:/Users/Administrator/workspace/xgboost-win64_release_1.4.0/src/learner.cc:1095: Starting in XGBoost 1.3.0, the default evaluation metric used with the objective 'binary:logistic' was changed from 'error' to 'logloss'. Explicitly set eval_metric if you'd like to restore the old behavior.\n"
     ]
    },
    {
     "data": {
      "text/plain": [
       "XGBClassifier(base_score=0.5, booster='gbtree', colsample_bylevel=1,\n",
       "              colsample_bynode=1, colsample_bytree=0.5, gamma=0.2, gpu_id=-1,\n",
       "              importance_type='gain', interaction_constraints='',\n",
       "              learning_rate=0.15, max_delta_step=0, max_depth=15,\n",
       "              min_child_weight=1, missing=nan, monotone_constraints='()',\n",
       "              n_estimators=100, n_jobs=4, num_parallel_tree=1, random_state=0,\n",
       "              reg_alpha=0, reg_lambda=10, scale_pos_weight=1, subsample=0.9,\n",
       "              tree_method='exact', use_label_encoder=False,\n",
       "              validate_parameters=1, verbosity=None)"
      ]
     },
     "execution_count": 670,
     "metadata": {},
     "output_type": "execute_result"
    }
   ],
   "source": [
    "classifier=xgb.XGBClassifier(objective='binary:logistic',\n",
    "                                  gamma=0.2,\n",
    "                                  learning_rate=0.15,\n",
    "                                  max_depth=15,\n",
    "                                  reg_lambda=10,\n",
    "                                  min_child_weight=1,\n",
    "                                  subsample=0.9, \n",
    "                                  colsample_bytree=0.50,\n",
    "                                  use_label_encoder=False)\n",
    "\n",
    "# Fitting the model\n",
    "classifier.fit(X_train,y_train)"
   ]
  },
  {
   "cell_type": "code",
   "execution_count": 671,
   "id": "00fd6be9",
   "metadata": {},
   "outputs": [],
   "source": [
    "\n",
    "# Predicting model\n",
    "y_pred= classifier.predict(X_test)"
   ]
  },
  {
   "cell_type": "markdown",
   "id": "c78dabda",
   "metadata": {},
   "source": [
    "## Evaluating the model after hyperparameter tuning"
   ]
  },
  {
   "cell_type": "code",
   "execution_count": 672,
   "id": "29c63cb2",
   "metadata": {},
   "outputs": [
    {
     "name": "stdout",
     "output_type": "stream",
     "text": [
      "The accuracy of the model is: 0.9777448071216617\n",
      "              precision    recall  f1-score   support\n",
      "\n",
      "           0       0.94      0.88      0.91        83\n",
      "           1       0.98      0.99      0.99       591\n",
      "\n",
      "    accuracy                           0.98       674\n",
      "   macro avg       0.96      0.94      0.95       674\n",
      "weighted avg       0.98      0.98      0.98       674\n",
      "\n"
     ]
    }
   ],
   "source": [
    "print(\"The accuracy of the model is:\", accuracy_score(y_test, y_pred))\n",
    "print(classification_report(y_test,y_pred))"
   ]
  },
  {
   "cell_type": "markdown",
   "id": "75c2a288",
   "metadata": {},
   "source": [
    "## Cross validation"
   ]
  },
  {
   "cell_type": "code",
   "execution_count": 673,
   "id": "b7b861fc",
   "metadata": {},
   "outputs": [
    {
     "name": "stdout",
     "output_type": "stream",
     "text": [
      "[16:30:38] WARNING: C:/Users/Administrator/workspace/xgboost-win64_release_1.4.0/src/learner.cc:1095: Starting in XGBoost 1.3.0, the default evaluation metric used with the objective 'binary:logistic' was changed from 'error' to 'logloss'. Explicitly set eval_metric if you'd like to restore the old behavior.\n",
      "[16:30:38] WARNING: C:/Users/Administrator/workspace/xgboost-win64_release_1.4.0/src/learner.cc:1095: Starting in XGBoost 1.3.0, the default evaluation metric used with the objective 'binary:logistic' was changed from 'error' to 'logloss'. Explicitly set eval_metric if you'd like to restore the old behavior.\n",
      "[16:30:38] WARNING: C:/Users/Administrator/workspace/xgboost-win64_release_1.4.0/src/learner.cc:1095: Starting in XGBoost 1.3.0, the default evaluation metric used with the objective 'binary:logistic' was changed from 'error' to 'logloss'. Explicitly set eval_metric if you'd like to restore the old behavior.\n",
      "[16:30:39] WARNING: C:/Users/Administrator/workspace/xgboost-win64_release_1.4.0/src/learner.cc:1095: Starting in XGBoost 1.3.0, the default evaluation metric used with the objective 'binary:logistic' was changed from 'error' to 'logloss'. Explicitly set eval_metric if you'd like to restore the old behavior.\n",
      "[16:30:39] WARNING: C:/Users/Administrator/workspace/xgboost-win64_release_1.4.0/src/learner.cc:1095: Starting in XGBoost 1.3.0, the default evaluation metric used with the objective 'binary:logistic' was changed from 'error' to 'logloss'. Explicitly set eval_metric if you'd like to restore the old behavior.\n",
      "[16:30:39] WARNING: C:/Users/Administrator/workspace/xgboost-win64_release_1.4.0/src/learner.cc:1095: Starting in XGBoost 1.3.0, the default evaluation metric used with the objective 'binary:logistic' was changed from 'error' to 'logloss'. Explicitly set eval_metric if you'd like to restore the old behavior.\n",
      "[16:30:40] WARNING: C:/Users/Administrator/workspace/xgboost-win64_release_1.4.0/src/learner.cc:1095: Starting in XGBoost 1.3.0, the default evaluation metric used with the objective 'binary:logistic' was changed from 'error' to 'logloss'. Explicitly set eval_metric if you'd like to restore the old behavior.\n",
      "[16:30:40] WARNING: C:/Users/Administrator/workspace/xgboost-win64_release_1.4.0/src/learner.cc:1095: Starting in XGBoost 1.3.0, the default evaluation metric used with the objective 'binary:logistic' was changed from 'error' to 'logloss'. Explicitly set eval_metric if you'd like to restore the old behavior.\n",
      "[16:30:40] WARNING: C:/Users/Administrator/workspace/xgboost-win64_release_1.4.0/src/learner.cc:1095: Starting in XGBoost 1.3.0, the default evaluation metric used with the objective 'binary:logistic' was changed from 'error' to 'logloss'. Explicitly set eval_metric if you'd like to restore the old behavior.\n",
      "[16:30:41] WARNING: C:/Users/Administrator/workspace/xgboost-win64_release_1.4.0/src/learner.cc:1095: Starting in XGBoost 1.3.0, the default evaluation metric used with the objective 'binary:logistic' was changed from 'error' to 'logloss'. Explicitly set eval_metric if you'd like to restore the old behavior.\n"
     ]
    }
   ],
   "source": [
    "from sklearn.model_selection import cross_val_score\n",
    "score=cross_val_score(classifier,X,y,cv=10)"
   ]
  },
  {
   "cell_type": "code",
   "execution_count": 674,
   "id": "66527287",
   "metadata": {},
   "outputs": [
    {
     "data": {
      "text/plain": [
       "array([0.95845697, 0.95252226, 0.96142433, 0.97329377, 0.97032641,\n",
       "       1.        , 0.9851632 , 0.97922849, 0.99406528, 0.96735905])"
      ]
     },
     "execution_count": 674,
     "metadata": {},
     "output_type": "execute_result"
    }
   ],
   "source": [
    "score"
   ]
  },
  {
   "cell_type": "code",
   "execution_count": 675,
   "id": "d44afc77",
   "metadata": {},
   "outputs": [
    {
     "data": {
      "text/plain": [
       "0.9741839762611276"
      ]
     },
     "execution_count": 675,
     "metadata": {},
     "output_type": "execute_result"
    }
   ],
   "source": [
    "score.mean()"
   ]
  }
 ],
 "metadata": {
  "kernelspec": {
   "display_name": "Python 3",
   "language": "python",
   "name": "python3"
  },
  "language_info": {
   "codemirror_mode": {
    "name": "ipython",
    "version": 3
   },
   "file_extension": ".py",
   "mimetype": "text/x-python",
   "name": "python",
   "nbconvert_exporter": "python",
   "pygments_lexer": "ipython3",
   "version": "3.8.8"
  }
 },
 "nbformat": 4,
 "nbformat_minor": 5
}
